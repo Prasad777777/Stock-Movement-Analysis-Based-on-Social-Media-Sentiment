{
 "cells": [
  {
   "cell_type": "code",
   "execution_count": 4,
   "id": "67041580-74dd-4288-beb2-e989227c857d",
   "metadata": {},
   "outputs": [
    {
     "name": "stdout",
     "output_type": "stream",
     "text": [
      "Collecting praw\n",
      "  Downloading praw-7.8.1-py3-none-any.whl.metadata (9.4 kB)\n",
      "Collecting prawcore<3,>=2.4 (from praw)\n",
      "  Downloading prawcore-2.4.0-py3-none-any.whl.metadata (5.0 kB)\n",
      "Collecting update_checker>=0.18 (from praw)\n",
      "  Downloading update_checker-0.18.0-py3-none-any.whl.metadata (2.3 kB)\n",
      "Requirement already satisfied: websocket-client>=0.54.0 in c:\\users\\asus vivobook 15\\anaconda3\\lib\\site-packages (from praw) (1.8.0)\n",
      "Requirement already satisfied: requests<3.0,>=2.6.0 in c:\\users\\asus vivobook 15\\anaconda3\\lib\\site-packages (from prawcore<3,>=2.4->praw) (2.32.2)\n",
      "Requirement already satisfied: charset-normalizer<4,>=2 in c:\\users\\asus vivobook 15\\anaconda3\\lib\\site-packages (from requests<3.0,>=2.6.0->prawcore<3,>=2.4->praw) (2.0.4)\n",
      "Requirement already satisfied: idna<4,>=2.5 in c:\\users\\asus vivobook 15\\anaconda3\\lib\\site-packages (from requests<3.0,>=2.6.0->prawcore<3,>=2.4->praw) (3.10)\n",
      "Requirement already satisfied: urllib3<3,>=1.21.1 in c:\\users\\asus vivobook 15\\anaconda3\\lib\\site-packages (from requests<3.0,>=2.6.0->prawcore<3,>=2.4->praw) (2.2.2)\n",
      "Requirement already satisfied: certifi>=2017.4.17 in c:\\users\\asus vivobook 15\\anaconda3\\lib\\site-packages (from requests<3.0,>=2.6.0->prawcore<3,>=2.4->praw) (2024.8.30)\n",
      "Downloading praw-7.8.1-py3-none-any.whl (189 kB)\n",
      "   ---------------------------------------- 0.0/189.3 kB ? eta -:--:--\n",
      "   -- ------------------------------------- 10.2/189.3 kB ? eta -:--:--\n",
      "   ------ -------------------------------- 30.7/189.3 kB 330.3 kB/s eta 0:00:01\n",
      "   ---------------- ---------------------- 81.9/189.3 kB 657.6 kB/s eta 0:00:01\n",
      "   ---------------------------- --------- 143.4/189.3 kB 853.3 kB/s eta 0:00:01\n",
      "   -------------------------------------- 189.3/189.3 kB 957.7 kB/s eta 0:00:00\n",
      "Downloading prawcore-2.4.0-py3-none-any.whl (17 kB)\n",
      "Downloading update_checker-0.18.0-py3-none-any.whl (7.0 kB)\n",
      "Installing collected packages: update_checker, prawcore, praw\n",
      "Successfully installed praw-7.8.1 prawcore-2.4.0 update_checker-0.18.0\n"
     ]
    },
    {
     "data": {
      "text/html": [
       "<div>\n",
       "<style scoped>\n",
       "    .dataframe tbody tr th:only-of-type {\n",
       "        vertical-align: middle;\n",
       "    }\n",
       "\n",
       "    .dataframe tbody tr th {\n",
       "        vertical-align: top;\n",
       "    }\n",
       "\n",
       "    .dataframe thead th {\n",
       "        text-align: right;\n",
       "    }\n",
       "</style>\n",
       "<table border=\"1\" class=\"dataframe\">\n",
       "  <thead>\n",
       "    <tr style=\"text-align: right;\">\n",
       "      <th></th>\n",
       "      <th>Subreddit</th>\n",
       "      <th>Title</th>\n",
       "      <th>Body</th>\n",
       "      <th>Score</th>\n",
       "      <th>Upvote Ratio</th>\n",
       "      <th>Comments</th>\n",
       "      <th>Date</th>\n",
       "    </tr>\n",
       "  </thead>\n",
       "  <tbody>\n",
       "    <tr>\n",
       "      <th>0</th>\n",
       "      <td>wallstreetbets</td>\n",
       "      <td>Weekend Discussion Thread for the Weekend of N...</td>\n",
       "      <td>This post contains content not supported on ol...</td>\n",
       "      <td>134</td>\n",
       "      <td>0.95</td>\n",
       "      <td>6851</td>\n",
       "      <td>1.732309e+09</td>\n",
       "    </tr>\n",
       "    <tr>\n",
       "      <th>1</th>\n",
       "      <td>wallstreetbets</td>\n",
       "      <td>Weekly Earnings Thread 11/25 - 11/29</td>\n",
       "      <td></td>\n",
       "      <td>100</td>\n",
       "      <td>0.97</td>\n",
       "      <td>385</td>\n",
       "      <td>1.732288e+09</td>\n",
       "    </tr>\n",
       "    <tr>\n",
       "      <th>2</th>\n",
       "      <td>wallstreetbets</td>\n",
       "      <td>An investor says he put 98% of his retirement ...</td>\n",
       "      <td></td>\n",
       "      <td>523</td>\n",
       "      <td>0.93</td>\n",
       "      <td>164</td>\n",
       "      <td>1.732417e+09</td>\n",
       "    </tr>\n",
       "    <tr>\n",
       "      <th>3</th>\n",
       "      <td>wallstreetbets</td>\n",
       "      <td>Markets Misread Trump Win, Says Ex-Goldman Sac...</td>\n",
       "      <td>-'Prospect of tariffs not good for equities, b...</td>\n",
       "      <td>788</td>\n",
       "      <td>0.88</td>\n",
       "      <td>229</td>\n",
       "      <td>1.732408e+09</td>\n",
       "    </tr>\n",
       "    <tr>\n",
       "      <th>4</th>\n",
       "      <td>wallstreetbets</td>\n",
       "      <td>$19k ===&gt; $267k in MSTR. I told you 4 months a...</td>\n",
       "      <td>I bought these calls back in June/July 2024. I...</td>\n",
       "      <td>3473</td>\n",
       "      <td>0.93</td>\n",
       "      <td>399</td>\n",
       "      <td>1.732357e+09</td>\n",
       "    </tr>\n",
       "  </tbody>\n",
       "</table>\n",
       "</div>"
      ],
      "text/plain": [
       "        Subreddit                                              Title  \\\n",
       "0  wallstreetbets  Weekend Discussion Thread for the Weekend of N...   \n",
       "1  wallstreetbets               Weekly Earnings Thread 11/25 - 11/29   \n",
       "2  wallstreetbets  An investor says he put 98% of his retirement ...   \n",
       "3  wallstreetbets  Markets Misread Trump Win, Says Ex-Goldman Sac...   \n",
       "4  wallstreetbets  $19k ===> $267k in MSTR. I told you 4 months a...   \n",
       "\n",
       "                                                Body  Score  Upvote Ratio  \\\n",
       "0  This post contains content not supported on ol...    134          0.95   \n",
       "1                                                       100          0.97   \n",
       "2                                                       523          0.93   \n",
       "3  -'Prospect of tariffs not good for equities, b...    788          0.88   \n",
       "4  I bought these calls back in June/July 2024. I...   3473          0.93   \n",
       "\n",
       "   Comments          Date  \n",
       "0      6851  1.732309e+09  \n",
       "1       385  1.732288e+09  \n",
       "2       164  1.732417e+09  \n",
       "3       229  1.732408e+09  \n",
       "4       399  1.732357e+09  "
      ]
     },
     "execution_count": 4,
     "metadata": {},
     "output_type": "execute_result"
    }
   ],
   "source": [
    "!pip install praw\n",
    "import praw\n",
    "import pandas as pd\n",
    "\n",
    "# Replace with your actual Reddit credentials\n",
    "client_id = 'tSQkq7wi9MC9b5PxYvoOfQ'\n",
    "client_secret = 'ZCmhpJ9RUv8WLPDAROdvlNPdNgzQ8w'\n",
    "user_agent = 'DataHarvester/0.1 by DogGroundbreaking350'\n",
    "\n",
    "# Connect to Reddit API\n",
    "reddit = praw.Reddit(client_id=client_id,\n",
    "                     client_secret=client_secret,\n",
    "                     user_agent=user_agent)\n",
    "\n",
    "# Choose the subreddits you want to scrape from\n",
    "subreddits = [\"wallstreetbets\", \"stocks\", \"investing\"]\n",
    "\n",
    "# Set parameters for scraping\n",
    "post_limit = 100  # Number of posts to scrape from each subreddit\n",
    "\n",
    "# Scrape posts from selected subreddits\n",
    "posts = []\n",
    "\n",
    "for subreddit_name in subreddits:\n",
    "    subreddit = reddit.subreddit(subreddit_name)\n",
    "    for post in subreddit.hot(limit=post_limit):\n",
    "        posts.append({\n",
    "            \"Subreddit\": subreddit_name,\n",
    "            \"Title\": post.title,\n",
    "            \"Body\": post.selftext,\n",
    "            \"Score\": post.score,\n",
    "            \"Upvote Ratio\": post.upvote_ratio,\n",
    "            \"Comments\": post.num_comments,\n",
    "            \"Date\": post.created_utc\n",
    "        })\n",
    "\n",
    "# Create a DataFrame with the scraped data\n",
    "df = pd.DataFrame(posts, columns=[\"Subreddit\", \"Title\", \"Body\", \"Score\", \"Upvote Ratio\", \"Comments\", \"Date\"])\n",
    "\n",
    "# Show the first few rows of the data\n",
    "df.head()"
   ]
  },
  {
   "cell_type": "code",
   "execution_count": 6,
   "id": "3289c5f2-51f8-4f43-8634-44736272e2b1",
   "metadata": {},
   "outputs": [
    {
     "data": {
      "text/html": [
       "<div>\n",
       "<style scoped>\n",
       "    .dataframe tbody tr th:only-of-type {\n",
       "        vertical-align: middle;\n",
       "    }\n",
       "\n",
       "    .dataframe tbody tr th {\n",
       "        vertical-align: top;\n",
       "    }\n",
       "\n",
       "    .dataframe thead th {\n",
       "        text-align: right;\n",
       "    }\n",
       "</style>\n",
       "<table border=\"1\" class=\"dataframe\">\n",
       "  <thead>\n",
       "    <tr style=\"text-align: right;\">\n",
       "      <th></th>\n",
       "      <th>Subreddit</th>\n",
       "      <th>Title</th>\n",
       "      <th>Body</th>\n",
       "      <th>Score</th>\n",
       "      <th>Upvote Ratio</th>\n",
       "      <th>Comments</th>\n",
       "      <th>Date</th>\n",
       "      <th>Cleaned Title</th>\n",
       "      <th>Cleaned Body</th>\n",
       "    </tr>\n",
       "  </thead>\n",
       "  <tbody>\n",
       "    <tr>\n",
       "      <th>0</th>\n",
       "      <td>wallstreetbets</td>\n",
       "      <td>Weekend Discussion Thread for the Weekend of N...</td>\n",
       "      <td>This post contains content not supported on ol...</td>\n",
       "      <td>134</td>\n",
       "      <td>0.95</td>\n",
       "      <td>6851</td>\n",
       "      <td>1.732309e+09</td>\n",
       "      <td>Weekend Discussion Thread for the Weekend of N...</td>\n",
       "      <td>This post contains content not supported on ol...</td>\n",
       "    </tr>\n",
       "    <tr>\n",
       "      <th>1</th>\n",
       "      <td>wallstreetbets</td>\n",
       "      <td>Weekly Earnings Thread 11/25 - 11/29</td>\n",
       "      <td></td>\n",
       "      <td>100</td>\n",
       "      <td>0.97</td>\n",
       "      <td>385</td>\n",
       "      <td>1.732288e+09</td>\n",
       "      <td>Weekly Earnings Thread 11/25 - 11/29</td>\n",
       "      <td></td>\n",
       "    </tr>\n",
       "    <tr>\n",
       "      <th>2</th>\n",
       "      <td>wallstreetbets</td>\n",
       "      <td>An investor says he put 98% of his retirement ...</td>\n",
       "      <td></td>\n",
       "      <td>523</td>\n",
       "      <td>0.93</td>\n",
       "      <td>164</td>\n",
       "      <td>1.732417e+09</td>\n",
       "      <td>An investor says he put 98% of his retirement ...</td>\n",
       "      <td></td>\n",
       "    </tr>\n",
       "    <tr>\n",
       "      <th>3</th>\n",
       "      <td>wallstreetbets</td>\n",
       "      <td>Markets Misread Trump Win, Says Ex-Goldman Sac...</td>\n",
       "      <td>-'Prospect of tariffs not good for equities, b...</td>\n",
       "      <td>788</td>\n",
       "      <td>0.88</td>\n",
       "      <td>229</td>\n",
       "      <td>1.732408e+09</td>\n",
       "      <td>Markets Misread Trump Win, Says Ex-Goldman Sac...</td>\n",
       "      <td>-'Prospect of tariffs not good for equities, b...</td>\n",
       "    </tr>\n",
       "    <tr>\n",
       "      <th>4</th>\n",
       "      <td>wallstreetbets</td>\n",
       "      <td>$19k ===&gt; $267k in MSTR. I told you 4 months a...</td>\n",
       "      <td>I bought these calls back in June/July 2024. I...</td>\n",
       "      <td>3473</td>\n",
       "      <td>0.93</td>\n",
       "      <td>399</td>\n",
       "      <td>1.732357e+09</td>\n",
       "      <td>$19k ===&gt; $267k in MSTR. I told you 4 months a...</td>\n",
       "      <td>I bought these calls back in June/July 2024. I...</td>\n",
       "    </tr>\n",
       "  </tbody>\n",
       "</table>\n",
       "</div>"
      ],
      "text/plain": [
       "        Subreddit                                              Title  \\\n",
       "0  wallstreetbets  Weekend Discussion Thread for the Weekend of N...   \n",
       "1  wallstreetbets               Weekly Earnings Thread 11/25 - 11/29   \n",
       "2  wallstreetbets  An investor says he put 98% of his retirement ...   \n",
       "3  wallstreetbets  Markets Misread Trump Win, Says Ex-Goldman Sac...   \n",
       "4  wallstreetbets  $19k ===> $267k in MSTR. I told you 4 months a...   \n",
       "\n",
       "                                                Body  Score  Upvote Ratio  \\\n",
       "0  This post contains content not supported on ol...    134          0.95   \n",
       "1                                                       100          0.97   \n",
       "2                                                       523          0.93   \n",
       "3  -'Prospect of tariffs not good for equities, b...    788          0.88   \n",
       "4  I bought these calls back in June/July 2024. I...   3473          0.93   \n",
       "\n",
       "   Comments          Date                                      Cleaned Title  \\\n",
       "0      6851  1.732309e+09  Weekend Discussion Thread for the Weekend of N...   \n",
       "1       385  1.732288e+09               Weekly Earnings Thread 11/25 - 11/29   \n",
       "2       164  1.732417e+09  An investor says he put 98% of his retirement ...   \n",
       "3       229  1.732408e+09  Markets Misread Trump Win, Says Ex-Goldman Sac...   \n",
       "4       399  1.732357e+09  $19k ===> $267k in MSTR. I told you 4 months a...   \n",
       "\n",
       "                                        Cleaned Body  \n",
       "0  This post contains content not supported on ol...  \n",
       "1                                                     \n",
       "2                                                     \n",
       "3  -'Prospect of tariffs not good for equities, b...  \n",
       "4  I bought these calls back in June/July 2024. I...  "
      ]
     },
     "execution_count": 6,
     "metadata": {},
     "output_type": "execute_result"
    }
   ],
   "source": [
    "import re\n",
    "\n",
    "# Function to clean text data\n",
    "def clean_text(text):\n",
    "    text = re.sub(r\"http\\S+|www\\S+|https\\S+\", '', text, flags=re.MULTILINE)\n",
    "    text = re.sub(r'\\@\\w+|\\#', '', text)\n",
    "    text = re.sub(r'\\n', ' ', text)  # Replace new lines with space\n",
    "    return text\n",
    "\n",
    "# Apply the cleaning function\n",
    "df['Cleaned Title'] = df['Title'].apply(clean_text)\n",
    "df['Cleaned Body'] = df['Body'].apply(clean_text)\n",
    "\n",
    "# Drop rows where both Title and Body are empty after cleaning\n",
    "df.dropna(subset=['Cleaned Title', 'Cleaned Body'], how='all', inplace=True)\n",
    "\n",
    "# Show cleaned data\n",
    "df.head()\n"
   ]
  },
  {
   "cell_type": "code",
   "execution_count": 10,
   "id": "12b8d109-c2a0-43aa-a3c4-3851029b6a98",
   "metadata": {},
   "outputs": [
    {
     "name": "stdout",
     "output_type": "stream",
     "text": [
      "Collecting textblob\n",
      "  Downloading textblob-0.18.0.post0-py3-none-any.whl.metadata (4.5 kB)\n",
      "Requirement already satisfied: nltk>=3.8 in c:\\users\\asus vivobook 15\\anaconda3\\lib\\site-packages (from textblob) (3.9.1)\n",
      "Requirement already satisfied: click in c:\\users\\asus vivobook 15\\anaconda3\\lib\\site-packages (from nltk>=3.8->textblob) (8.1.7)\n",
      "Requirement already satisfied: joblib in c:\\users\\asus vivobook 15\\anaconda3\\lib\\site-packages (from nltk>=3.8->textblob) (1.4.2)\n",
      "Requirement already satisfied: regex>=2021.8.3 in c:\\users\\asus vivobook 15\\anaconda3\\lib\\site-packages (from nltk>=3.8->textblob) (2023.10.3)\n",
      "Requirement already satisfied: tqdm in c:\\users\\asus vivobook 15\\anaconda3\\lib\\site-packages (from nltk>=3.8->textblob) (4.66.4)\n",
      "Requirement already satisfied: colorama in c:\\users\\asus vivobook 15\\anaconda3\\lib\\site-packages (from click->nltk>=3.8->textblob) (0.4.6)\n",
      "Downloading textblob-0.18.0.post0-py3-none-any.whl (626 kB)\n",
      "   ---------------------------------------- 0.0/626.3 kB ? eta -:--:--\n",
      "   ---------------------------------------- 0.0/626.3 kB ? eta -:--:--\n",
      "    --------------------------------------- 10.2/626.3 kB ? eta -:--:--\n",
      "   -- ------------------------------------ 41.0/626.3 kB 388.9 kB/s eta 0:00:02\n",
      "   --- ----------------------------------- 61.4/626.3 kB 544.7 kB/s eta 0:00:02\n",
      "   ---------- --------------------------- 174.1/626.3 kB 952.6 kB/s eta 0:00:01\n",
      "   ----------- -------------------------- 184.3/626.3 kB 740.8 kB/s eta 0:00:01\n",
      "   --------------- ---------------------- 256.0/626.3 kB 871.5 kB/s eta 0:00:01\n",
      "   ------------------------ --------------- 389.1/626.3 kB 1.2 MB/s eta 0:00:01\n",
      "   ------------------------------ --------- 481.3/626.3 kB 1.2 MB/s eta 0:00:01\n",
      "   ---------------------------------------  624.6/626.3 kB 1.5 MB/s eta 0:00:01\n",
      "   ---------------------------------------- 626.3/626.3 kB 1.4 MB/s eta 0:00:00\n",
      "Installing collected packages: textblob\n",
      "Successfully installed textblob-0.18.0.post0\n"
     ]
    },
    {
     "data": {
      "text/html": [
       "<div>\n",
       "<style scoped>\n",
       "    .dataframe tbody tr th:only-of-type {\n",
       "        vertical-align: middle;\n",
       "    }\n",
       "\n",
       "    .dataframe tbody tr th {\n",
       "        vertical-align: top;\n",
       "    }\n",
       "\n",
       "    .dataframe thead th {\n",
       "        text-align: right;\n",
       "    }\n",
       "</style>\n",
       "<table border=\"1\" class=\"dataframe\">\n",
       "  <thead>\n",
       "    <tr style=\"text-align: right;\">\n",
       "      <th></th>\n",
       "      <th>Subreddit</th>\n",
       "      <th>Title</th>\n",
       "      <th>Body</th>\n",
       "      <th>Score</th>\n",
       "      <th>Upvote Ratio</th>\n",
       "      <th>Comments</th>\n",
       "      <th>Date</th>\n",
       "      <th>Cleaned Title</th>\n",
       "      <th>Cleaned Body</th>\n",
       "      <th>Title Sentiment</th>\n",
       "      <th>Body Sentiment</th>\n",
       "    </tr>\n",
       "  </thead>\n",
       "  <tbody>\n",
       "    <tr>\n",
       "      <th>0</th>\n",
       "      <td>wallstreetbets</td>\n",
       "      <td>Weekend Discussion Thread for the Weekend of N...</td>\n",
       "      <td>This post contains content not supported on ol...</td>\n",
       "      <td>134</td>\n",
       "      <td>0.95</td>\n",
       "      <td>6851</td>\n",
       "      <td>1.732309e+09</td>\n",
       "      <td>Weekend Discussion Thread for the Weekend of N...</td>\n",
       "      <td>This post contains content not supported on ol...</td>\n",
       "      <td>0.000</td>\n",
       "      <td>0.225000</td>\n",
       "    </tr>\n",
       "    <tr>\n",
       "      <th>1</th>\n",
       "      <td>wallstreetbets</td>\n",
       "      <td>Weekly Earnings Thread 11/25 - 11/29</td>\n",
       "      <td></td>\n",
       "      <td>100</td>\n",
       "      <td>0.97</td>\n",
       "      <td>385</td>\n",
       "      <td>1.732288e+09</td>\n",
       "      <td>Weekly Earnings Thread 11/25 - 11/29</td>\n",
       "      <td></td>\n",
       "      <td>0.000</td>\n",
       "      <td>0.000000</td>\n",
       "    </tr>\n",
       "    <tr>\n",
       "      <th>2</th>\n",
       "      <td>wallstreetbets</td>\n",
       "      <td>An investor says he put 98% of his retirement ...</td>\n",
       "      <td></td>\n",
       "      <td>523</td>\n",
       "      <td>0.93</td>\n",
       "      <td>164</td>\n",
       "      <td>1.732417e+09</td>\n",
       "      <td>An investor says he put 98% of his retirement ...</td>\n",
       "      <td></td>\n",
       "      <td>-0.400</td>\n",
       "      <td>0.000000</td>\n",
       "    </tr>\n",
       "    <tr>\n",
       "      <th>3</th>\n",
       "      <td>wallstreetbets</td>\n",
       "      <td>Markets Misread Trump Win, Says Ex-Goldman Sac...</td>\n",
       "      <td>-'Prospect of tariffs not good for equities, b...</td>\n",
       "      <td>788</td>\n",
       "      <td>0.88</td>\n",
       "      <td>229</td>\n",
       "      <td>1.732408e+09</td>\n",
       "      <td>Markets Misread Trump Win, Says Ex-Goldman Sac...</td>\n",
       "      <td>-'Prospect of tariffs not good for equities, b...</td>\n",
       "      <td>0.225</td>\n",
       "      <td>0.283333</td>\n",
       "    </tr>\n",
       "    <tr>\n",
       "      <th>4</th>\n",
       "      <td>wallstreetbets</td>\n",
       "      <td>$19k ===&gt; $267k in MSTR. I told you 4 months a...</td>\n",
       "      <td>I bought these calls back in June/July 2024. I...</td>\n",
       "      <td>3473</td>\n",
       "      <td>0.93</td>\n",
       "      <td>399</td>\n",
       "      <td>1.732357e+09</td>\n",
       "      <td>$19k ===&gt; $267k in MSTR. I told you 4 months a...</td>\n",
       "      <td>I bought these calls back in June/July 2024. I...</td>\n",
       "      <td>0.000</td>\n",
       "      <td>-0.042630</td>\n",
       "    </tr>\n",
       "  </tbody>\n",
       "</table>\n",
       "</div>"
      ],
      "text/plain": [
       "        Subreddit                                              Title  \\\n",
       "0  wallstreetbets  Weekend Discussion Thread for the Weekend of N...   \n",
       "1  wallstreetbets               Weekly Earnings Thread 11/25 - 11/29   \n",
       "2  wallstreetbets  An investor says he put 98% of his retirement ...   \n",
       "3  wallstreetbets  Markets Misread Trump Win, Says Ex-Goldman Sac...   \n",
       "4  wallstreetbets  $19k ===> $267k in MSTR. I told you 4 months a...   \n",
       "\n",
       "                                                Body  Score  Upvote Ratio  \\\n",
       "0  This post contains content not supported on ol...    134          0.95   \n",
       "1                                                       100          0.97   \n",
       "2                                                       523          0.93   \n",
       "3  -'Prospect of tariffs not good for equities, b...    788          0.88   \n",
       "4  I bought these calls back in June/July 2024. I...   3473          0.93   \n",
       "\n",
       "   Comments          Date                                      Cleaned Title  \\\n",
       "0      6851  1.732309e+09  Weekend Discussion Thread for the Weekend of N...   \n",
       "1       385  1.732288e+09               Weekly Earnings Thread 11/25 - 11/29   \n",
       "2       164  1.732417e+09  An investor says he put 98% of his retirement ...   \n",
       "3       229  1.732408e+09  Markets Misread Trump Win, Says Ex-Goldman Sac...   \n",
       "4       399  1.732357e+09  $19k ===> $267k in MSTR. I told you 4 months a...   \n",
       "\n",
       "                                        Cleaned Body  Title Sentiment  \\\n",
       "0  This post contains content not supported on ol...            0.000   \n",
       "1                                                               0.000   \n",
       "2                                                              -0.400   \n",
       "3  -'Prospect of tariffs not good for equities, b...            0.225   \n",
       "4  I bought these calls back in June/July 2024. I...            0.000   \n",
       "\n",
       "   Body Sentiment  \n",
       "0        0.225000  \n",
       "1        0.000000  \n",
       "2        0.000000  \n",
       "3        0.283333  \n",
       "4       -0.042630  "
      ]
     },
     "execution_count": 10,
     "metadata": {},
     "output_type": "execute_result"
    }
   ],
   "source": [
    "!pip install textblob\n",
    "from textblob import TextBlob\n",
    "\n",
    "# Function to calculate sentiment polarity\n",
    "def get_sentiment(text):\n",
    "    return TextBlob(text).sentiment.polarity\n",
    "\n",
    "# Apply sentiment analysis\n",
    "df['Title Sentiment'] = df['Cleaned Title'].apply(get_sentiment)\n",
    "df['Body Sentiment'] = df['Cleaned Body'].apply(get_sentiment)\n",
    "\n",
    "# Display the data with sentiment scores\n",
    "df.head()\n"
   ]
  },
  {
   "cell_type": "code",
   "execution_count": 12,
   "id": "37bbaeb1-1157-4565-9fa7-d56154f357fe",
   "metadata": {},
   "outputs": [],
   "source": [
    "csv_path = 'reddit_stock_data.csv'\n",
    "df.to_csv(csv_path, index=False)\n"
   ]
  },
  {
   "cell_type": "code",
   "execution_count": 14,
   "id": "6081208c-9443-40c5-ae09-6dd57c84784d",
   "metadata": {},
   "outputs": [
    {
     "name": "stdout",
     "output_type": "stream",
     "text": [
      "The CSV file is stored at: C:\\Users\\Asus Vivobook 15\\Downloads\\Stock_Sentiment_Analysis-main\\Stock_Sentiment_Analysis-main\\notebooks\\reddit_stock_data.csv\n"
     ]
    }
   ],
   "source": [
    "import os\n",
    "\n",
    "# Get the current working directory\n",
    "cwd = os.getcwd()\n",
    "\n",
    "# Print the full path to the CSV file\n",
    "csv_path = os.path.join(cwd, 'reddit_stock_data.csv')\n",
    "print(f'The CSV file is stored at: {csv_path}')\n"
   ]
  },
  {
   "cell_type": "code",
   "execution_count": 16,
   "id": "5bd25a7c-1905-4382-801f-056ad0f210ed",
   "metadata": {},
   "outputs": [
    {
     "name": "stdout",
     "output_type": "stream",
     "text": [
      "Index(['Subreddit', 'Title', 'Body', 'Score', 'Upvote Ratio', 'Comments',\n",
      "       'Date', 'Cleaned Title', 'Cleaned Body', 'Title Sentiment',\n",
      "       'Body Sentiment'],\n",
      "      dtype='object')\n"
     ]
    }
   ],
   "source": [
    "print(df.columns)\n"
   ]
  },
  {
   "cell_type": "code",
   "execution_count": 18,
   "id": "aae3c634-f731-4242-84e9-9859fe2b80b8",
   "metadata": {},
   "outputs": [
    {
     "name": "stdout",
     "output_type": "stream",
     "text": [
      "['Subreddit', 'Title', 'Body', 'Score', 'Upvote Ratio', 'Comments', 'Date', 'Cleaned Title', 'Cleaned Body', 'Title Sentiment', 'Body Sentiment']\n"
     ]
    }
   ],
   "source": [
    "print([col for col in df.columns])  # This will show column names explicitly\n"
   ]
  },
  {
   "cell_type": "code",
   "execution_count": 20,
   "id": "5c098dea-576b-4878-9316-8e8c8dd1b3a5",
   "metadata": {},
   "outputs": [
    {
     "name": "stdout",
     "output_type": "stream",
     "text": [
      "  Comments  sentiment sentiment_class\n",
      "0     6851        0.0         neutral\n",
      "1      385        0.0         neutral\n",
      "2      164        0.0         neutral\n",
      "3      229        0.0         neutral\n",
      "4      399        0.0         neutral\n"
     ]
    }
   ],
   "source": [
    "from nltk.sentiment.vader import SentimentIntensityAnalyzer\n",
    "import pandas as pd\n",
    "\n",
    "# Initialize Sentiment Analyzer\n",
    "analyzer = SentimentIntensityAnalyzer()\n",
    "\n",
    "# Ensure that the 'Comments' column is treated as string, handling NaNs\n",
    "df['Comments'] = df['Comments'].fillna('').astype(str)\n",
    "\n",
    "# Apply sentiment analysis on each comment\n",
    "df['sentiment'] = df['Comments'].apply(lambda x: analyzer.polarity_scores(x)['compound'])\n",
    "\n",
    "# Classify the sentiment into positive, negative, or neutral\n",
    "df['sentiment_class'] = df['sentiment'].apply(lambda x: 'positive' if x > 0.05 else ('negative' if x < -0.05 else 'neutral'))\n",
    "\n",
    "# View the updated dataframe\n",
    "print(df[['Comments', 'sentiment', 'sentiment_class']].head())\n"
   ]
  },
  {
   "cell_type": "code",
   "execution_count": 22,
   "id": "a01749cc-8ab5-4dec-b2b8-61a0fd56e9dd",
   "metadata": {},
   "outputs": [
    {
     "name": "stdout",
     "output_type": "stream",
     "text": [
      "sentiment_class\n",
      "neutral     99.333333\n",
      "positive     0.666667\n",
      "Name: proportion, dtype: float64\n"
     ]
    }
   ],
   "source": [
    "# Calculate the percentage of sentiment classes\n",
    "sentiment_summary = df['sentiment_class'].value_counts(normalize=True) * 100\n",
    "print(sentiment_summary)\n"
   ]
  },
  {
   "cell_type": "code",
   "execution_count": 24,
   "id": "518f0dbf-3c5d-41ac-9eaf-5c8c636fad66",
   "metadata": {},
   "outputs": [
    {
     "name": "stdout",
     "output_type": "stream",
     "text": [
      "        Subreddit                                              Title  \\\n",
      "0  wallstreetbets  Weekend Discussion Thread for the Weekend of N...   \n",
      "1  wallstreetbets               Weekly Earnings Thread 11/25 - 11/29   \n",
      "2  wallstreetbets  An investor says he put 98% of his retirement ...   \n",
      "3  wallstreetbets  Markets Misread Trump Win, Says Ex-Goldman Sac...   \n",
      "4  wallstreetbets  $19k ===> $267k in MSTR. I told you 4 months a...   \n",
      "\n",
      "                                                Body  Score  Upvote Ratio  \\\n",
      "0  This post contains content not supported on ol...    134          0.95   \n",
      "1                                                       100          0.97   \n",
      "2                                                       523          0.93   \n",
      "3  -'Prospect of tariffs not good for equities, b...    788          0.88   \n",
      "4  I bought these calls back in June/July 2024. I...   3473          0.93   \n",
      "\n",
      "  Comments          Date                                      Cleaned Title  \\\n",
      "0     6851  1.732309e+09  Weekend Discussion Thread for the Weekend of N...   \n",
      "1      385  1.732288e+09               Weekly Earnings Thread 11/25 - 11/29   \n",
      "2      164  1.732417e+09  An investor says he put 98% of his retirement ...   \n",
      "3      229  1.732408e+09  Markets Misread Trump Win, Says Ex-Goldman Sac...   \n",
      "4      399  1.732357e+09  $19k ===> $267k in MSTR. I told you 4 months a...   \n",
      "\n",
      "                                        Cleaned Body  Title Sentiment  \\\n",
      "0  This post contains content not supported on ol...            0.000   \n",
      "1                                                               0.000   \n",
      "2                                                              -0.400   \n",
      "3  -'Prospect of tariffs not good for equities, b...            0.225   \n",
      "4  I bought these calls back in June/July 2024. I...            0.000   \n",
      "\n",
      "   Body Sentiment  sentiment sentiment_class  \n",
      "0        0.225000        0.0         neutral  \n",
      "1        0.000000        0.0         neutral  \n",
      "2        0.000000        0.0         neutral  \n",
      "3        0.283333        0.0         neutral  \n",
      "4       -0.042630        0.0         neutral  \n",
      "RangeIndex(start=0, stop=300, step=1)\n"
     ]
    }
   ],
   "source": [
    "print(df.head())\n",
    "print(df.index)\n"
   ]
  },
  {
   "cell_type": "code",
   "execution_count": 26,
   "id": "0fff17a7-4b76-4726-959a-4e03c80a8833",
   "metadata": {},
   "outputs": [],
   "source": [
    "df['mentions_AAPL'] = df['Comments'].apply(lambda x: 1 if 'AAPL' in x.upper() else 0)"
   ]
  },
  {
   "cell_type": "code",
   "execution_count": 28,
   "id": "2e92c31e-aa86-4aad-ba75-5d763262cf02",
   "metadata": {},
   "outputs": [
    {
     "name": "stdout",
     "output_type": "stream",
     "text": [
      "Date\n",
      "2024-09-28    2\n",
      "2024-09-29    1\n",
      "Freq: D, Name: mentions_AAPL, dtype: int64\n"
     ]
    }
   ],
   "source": [
    "import pandas as pd\n",
    "\n",
    "# Sample DataFrame\n",
    "data = {\n",
    "    'Date': ['2024-09-28 10:00:00', '2024-09-28 12:00:00', '2024-09-29 09:00:00'],\n",
    "    'Comments': ['AAPL is great!', 'I love AAPL', 'Not related to AAPL']\n",
    "}\n",
    "df = pd.DataFrame(data)\n",
    "\n",
    "# Convert 'Date' column to datetime\n",
    "df['Date'] = pd.to_datetime(df['Date'])\n",
    "\n",
    "# Add a column that tracks mentions of a specific stock\n",
    "df['mentions_AAPL'] = df['Comments'].apply(lambda x: 1 if 'AAPL' in x.upper() else 0)\n",
    "\n",
    "# Set 'date' as the index\n",
    "df.set_index('Date', inplace=True)\n",
    "\n",
    "# Calculate the frequency of mentions over time\n",
    "mentions_summary = df.resample('D')['mentions_AAPL'].sum()\n",
    "print(mentions_summary)\n"
   ]
  },
  {
   "cell_type": "code",
   "execution_count": 30,
   "id": "e912b7f9-4fa1-4db7-8398-18f9fa085420",
   "metadata": {},
   "outputs": [
    {
     "name": "stdout",
     "output_type": "stream",
     "text": [
      "Requirement already satisfied: pandas in c:\\users\\asus vivobook 15\\appdata\\roaming\\python\\python312\\site-packages (2.2.3)\n",
      "Requirement already satisfied: nltk in c:\\users\\asus vivobook 15\\anaconda3\\lib\\site-packages (3.9.1)\n",
      "Requirement already satisfied: scikit-learn in c:\\users\\asus vivobook 15\\anaconda3\\lib\\site-packages (1.5.2)\n",
      "Collecting pyLDAvis\n",
      "  Downloading pyLDAvis-3.4.1-py3-none-any.whl.metadata (4.2 kB)\n",
      "Requirement already satisfied: matplotlib in c:\\users\\asus vivobook 15\\appdata\\roaming\\python\\python312\\site-packages (3.9.2)\n",
      "Requirement already satisfied: seaborn in c:\\users\\asus vivobook 15\\anaconda3\\lib\\site-packages (0.13.2)\n",
      "Requirement already satisfied: numpy>=1.26.0 in c:\\users\\asus vivobook 15\\anaconda3\\lib\\site-packages (from pandas) (1.26.4)\n",
      "Requirement already satisfied: python-dateutil>=2.8.2 in c:\\users\\asus vivobook 15\\appdata\\roaming\\python\\python312\\site-packages (from pandas) (2.9.0.post0)\n",
      "Requirement already satisfied: pytz>=2020.1 in c:\\users\\asus vivobook 15\\appdata\\roaming\\python\\python312\\site-packages (from pandas) (2024.2)\n",
      "Requirement already satisfied: tzdata>=2022.7 in c:\\users\\asus vivobook 15\\appdata\\roaming\\python\\python312\\site-packages (from pandas) (2024.2)\n",
      "Requirement already satisfied: click in c:\\users\\asus vivobook 15\\anaconda3\\lib\\site-packages (from nltk) (8.1.7)\n",
      "Requirement already satisfied: joblib in c:\\users\\asus vivobook 15\\anaconda3\\lib\\site-packages (from nltk) (1.4.2)\n",
      "Requirement already satisfied: regex>=2021.8.3 in c:\\users\\asus vivobook 15\\anaconda3\\lib\\site-packages (from nltk) (2023.10.3)\n",
      "Requirement already satisfied: tqdm in c:\\users\\asus vivobook 15\\anaconda3\\lib\\site-packages (from nltk) (4.66.4)\n",
      "Requirement already satisfied: scipy>=1.6.0 in c:\\users\\asus vivobook 15\\anaconda3\\lib\\site-packages (from scikit-learn) (1.14.1)\n",
      "Requirement already satisfied: threadpoolctl>=3.1.0 in c:\\users\\asus vivobook 15\\anaconda3\\lib\\site-packages (from scikit-learn) (3.5.0)\n",
      "Requirement already satisfied: jinja2 in c:\\users\\asus vivobook 15\\anaconda3\\lib\\site-packages (from pyLDAvis) (3.1.4)\n",
      "Requirement already satisfied: numexpr in c:\\users\\asus vivobook 15\\anaconda3\\lib\\site-packages (from pyLDAvis) (2.8.7)\n",
      "Collecting funcy (from pyLDAvis)\n",
      "  Downloading funcy-2.0-py2.py3-none-any.whl.metadata (5.9 kB)\n",
      "Requirement already satisfied: gensim in c:\\users\\asus vivobook 15\\anaconda3\\lib\\site-packages (from pyLDAvis) (4.3.2)\n",
      "Requirement already satisfied: setuptools in c:\\users\\asus vivobook 15\\anaconda3\\lib\\site-packages (from pyLDAvis) (69.5.1)\n",
      "Requirement already satisfied: contourpy>=1.0.1 in c:\\users\\asus vivobook 15\\appdata\\roaming\\python\\python312\\site-packages (from matplotlib) (1.3.0)\n",
      "Requirement already satisfied: cycler>=0.10 in c:\\users\\asus vivobook 15\\appdata\\roaming\\python\\python312\\site-packages (from matplotlib) (0.12.1)\n",
      "Requirement already satisfied: fonttools>=4.22.0 in c:\\users\\asus vivobook 15\\appdata\\roaming\\python\\python312\\site-packages (from matplotlib) (4.54.1)\n",
      "Requirement already satisfied: kiwisolver>=1.3.1 in c:\\users\\asus vivobook 15\\appdata\\roaming\\python\\python312\\site-packages (from matplotlib) (1.4.7)\n",
      "Requirement already satisfied: packaging>=20.0 in c:\\users\\asus vivobook 15\\appdata\\roaming\\python\\python312\\site-packages (from matplotlib) (24.1)\n",
      "Requirement already satisfied: pillow>=8 in c:\\users\\asus vivobook 15\\appdata\\roaming\\python\\python312\\site-packages (from matplotlib) (11.0.0)\n",
      "Requirement already satisfied: pyparsing>=2.3.1 in c:\\users\\asus vivobook 15\\appdata\\roaming\\python\\python312\\site-packages (from matplotlib) (3.2.0)\n",
      "Requirement already satisfied: six>=1.5 in c:\\users\\asus vivobook 15\\appdata\\roaming\\python\\python312\\site-packages (from python-dateutil>=2.8.2->pandas) (1.16.0)\n",
      "Requirement already satisfied: colorama in c:\\users\\asus vivobook 15\\anaconda3\\lib\\site-packages (from click->nltk) (0.4.6)\n",
      "Requirement already satisfied: smart-open>=1.8.1 in c:\\users\\asus vivobook 15\\anaconda3\\lib\\site-packages (from gensim->pyLDAvis) (5.2.1)\n",
      "Requirement already satisfied: MarkupSafe>=2.0 in c:\\users\\asus vivobook 15\\anaconda3\\lib\\site-packages (from jinja2->pyLDAvis) (2.1.3)\n",
      "Downloading pyLDAvis-3.4.1-py3-none-any.whl (2.6 MB)\n",
      "   ---------------------------------------- 0.0/2.6 MB ? eta -:--:--\n",
      "   ---------------------------------------- 0.0/2.6 MB ? eta -:--:--\n",
      "   ---------------------------------------- 0.0/2.6 MB 660.6 kB/s eta 0:00:04\n",
      "    --------------------------------------- 0.1/2.6 MB 656.4 kB/s eta 0:00:04\n",
      "   - -------------------------------------- 0.1/2.6 MB 901.1 kB/s eta 0:00:03\n",
      "   --- ------------------------------------ 0.3/2.6 MB 1.4 MB/s eta 0:00:02\n",
      "   ------ --------------------------------- 0.4/2.6 MB 1.9 MB/s eta 0:00:02\n",
      "   ---------- ----------------------------- 0.7/2.6 MB 2.6 MB/s eta 0:00:01\n",
      "   ----------------- ---------------------- 1.2/2.6 MB 3.7 MB/s eta 0:00:01\n",
      "   ------------------------- -------------- 1.6/2.6 MB 4.5 MB/s eta 0:00:01\n",
      "   -------------------------------- ------- 2.1/2.6 MB 5.2 MB/s eta 0:00:01\n",
      "   -------------------------------- ------- 2.1/2.6 MB 5.2 MB/s eta 0:00:01\n",
      "   ---------------------------------------  2.6/2.6 MB 5.0 MB/s eta 0:00:01\n",
      "   ---------------------------------------- 2.6/2.6 MB 4.9 MB/s eta 0:00:00\n",
      "Downloading funcy-2.0-py2.py3-none-any.whl (30 kB)\n",
      "Installing collected packages: funcy, pyLDAvis\n",
      "Successfully installed funcy-2.0 pyLDAvis-3.4.1\n",
      "Note: you may need to restart the kernel to use updated packages.\n"
     ]
    }
   ],
   "source": [
    "pip install pandas nltk scikit-learn pyLDAvis matplotlib seaborn"
   ]
  },
  {
   "cell_type": "code",
   "execution_count": 33,
   "id": "2b32d197-f20c-4c01-ae38-f0473d0395f8",
   "metadata": {},
   "outputs": [
    {
     "name": "stdout",
     "output_type": "stream",
     "text": [
      "Columns in DataFrame: Index(['Subreddit', 'Title', 'Body', 'Score', 'Upvote Ratio', 'Comments',\n",
      "       'Date', 'Cleaned Title', 'Cleaned Body', 'Title Sentiment',\n",
      "       'Body Sentiment'],\n",
      "      dtype='object')\n",
      "Stripped Columns: Index(['Subreddit', 'Title', 'Body', 'Score', 'Upvote Ratio', 'Comments',\n",
      "       'Date', 'Cleaned Title', 'Cleaned Body', 'Title Sentiment',\n",
      "       'Body Sentiment'],\n",
      "      dtype='object')\n"
     ]
    }
   ],
   "source": [
    "import pandas as pd\n",
    "\n",
    "# Load your data\n",
    "df = pd.read_csv(r'C:\\Users\\Asus Vivobook 15\\Downloads\\Stock_Sentiment_Analysis-main\\Stock_Sentiment_Analysis-main\\notebooks\\reddit_stock_data.csv')  # Using a raw string\n",
    "\n",
    "# Print the columns to check their names\n",
    "print(\"Columns in DataFrame:\", df.columns)\n",
    "\n",
    "# Strip whitespace from the column names\n",
    "df.columns = df.columns.str.strip()\n",
    "\n",
    "# Check again to find the correct column name\n",
    "print(\"Stripped Columns:\", df.columns)\n",
    "\n",
    "# Replace 'created_date' with the actual column name after checking\n",
    "# For example, if the column name is 'Created Date'\n",
    "df['Date'] = pd.to_datetime(df['Date'])\n",
    "\n"
   ]
  },
  {
   "cell_type": "code",
   "execution_count": 37,
   "id": "5b45f930-6a4f-405e-bfee-de1a7aea7fc7",
   "metadata": {},
   "outputs": [
    {
     "name": "stdout",
     "output_type": "stream",
     "text": [
      "Columns in DataFrame: Index(['Subreddit', 'Title', 'Body', 'Score', 'Upvote Ratio', 'Comments',\n",
      "       'Date', 'Cleaned Title', 'Cleaned Body', 'Title Sentiment',\n",
      "       'Body Sentiment'],\n",
      "      dtype='object')\n",
      "  Comments                                   sentiment_scores sentiment\n",
      "0     6851  {'neg': 0.0, 'neu': 1.0, 'pos': 0.0, 'compound...   neutral\n",
      "1      385  {'neg': 0.0, 'neu': 1.0, 'pos': 0.0, 'compound...   neutral\n",
      "2      164  {'neg': 0.0, 'neu': 1.0, 'pos': 0.0, 'compound...   neutral\n",
      "3      229  {'neg': 0.0, 'neu': 1.0, 'pos': 0.0, 'compound...   neutral\n",
      "4      399  {'neg': 0.0, 'neu': 1.0, 'pos': 0.0, 'compound...   neutral\n"
     ]
    },
    {
     "name": "stderr",
     "output_type": "stream",
     "text": [
      "[nltk_data] Downloading package vader_lexicon to C:\\Users\\Asus\n",
      "[nltk_data]     Vivobook 15\\AppData\\Roaming\\nltk_data...\n",
      "[nltk_data]   Package vader_lexicon is already up-to-date!\n"
     ]
    }
   ],
   "source": [
    "# Import necessary libraries\n",
    "import pandas as pd\n",
    "import nltk\n",
    "from nltk.sentiment import SentimentIntensityAnalyzer\n",
    "\n",
    "# Download necessary NLTK resources (run this only once)\n",
    "nltk.download('vader_lexicon')\n",
    "\n",
    "# Load your data (ensure to replace the path with your actual file path)\n",
    "df = pd.read_csv(r'C:\\Users\\Asus Vivobook 15\\Downloads\\Stock_Sentiment_Analysis-main\\Stock_Sentiment_Analysis-main\\notebooks\\reddit_stock_data.csv')  # Using a raw string\n",
    "\n",
    "# Strip whitespace from the column names\n",
    "df.columns = df.columns.str.strip()\n",
    "\n",
    "# Check the columns to identify the comment column\n",
    "print(\"Columns in DataFrame:\", df.columns)\n",
    "\n",
    "# Convert all values in the 'Comments' column to strings, replacing NaNs with empty strings\n",
    "df['Comments'] = df['Comments'].astype(str).fillna('')\n",
    "\n",
    "# Initialize the Sentiment Intensity Analyzer\n",
    "sia = SentimentIntensityAnalyzer()\n",
    "\n",
    "# Apply sentiment analysis\n",
    "df['sentiment_scores'] = df['Comments'].apply(lambda x: sia.polarity_scores(x))\n",
    "\n",
    "# Classify the sentiment\n",
    "df['sentiment'] = df['sentiment_scores'].apply(\n",
    "    lambda x: 'positive' if x['compound'] > 0.05 else ('negative' if x['compound'] < -0.05 else 'neutral')\n",
    ")\n",
    "\n",
    "# Display the resulting DataFrame with sentiment analysis results\n",
    "print(df[['Comments', 'sentiment_scores', 'sentiment']].head())  # Show the first few rows\n",
    "\n",
    "\n"
   ]
  },
  {
   "cell_type": "code",
   "execution_count": 39,
   "id": "f9a98db8-fad2-4f4b-bfc8-c5dccd51bd1e",
   "metadata": {},
   "outputs": [
    {
     "name": "stdout",
     "output_type": "stream",
     "text": [
      "Sentiment Counts:\n",
      " sentiment\n",
      "neutral     298\n",
      "positive      2\n",
      "Name: count, dtype: int64\n",
      "Total Mentions of AAPL: 0\n"
     ]
    }
   ],
   "source": [
    "# Count sentiment occurrences\n",
    "sentiment_counts = df['sentiment'].value_counts()\n",
    "\n",
    "# Frequency of mentions for specific stocks (e.g., AAPL)\n",
    "df['mentions_AAPL'] = df['Comments'].apply(lambda x: 1 if 'AAPL' in x.upper() else 0)\n",
    "mention_counts = df['mentions_AAPL'].sum()\n",
    "\n",
    "print(\"Sentiment Counts:\\n\", sentiment_counts)\n",
    "print(\"Total Mentions of AAPL:\", mention_counts)\n"
   ]
  },
  {
   "cell_type": "code",
   "execution_count": 45,
   "id": "586818ad-3566-425b-90d2-eef760a4b2dd",
   "metadata": {},
   "outputs": [
    {
     "name": "stdout",
     "output_type": "stream",
     "text": [
      "Topic 1:\n",
      "['59', '109', '56', '50', '61', '67', '48', '13', '41', '21']\n",
      "Topic 2:\n",
      "['109', '56', '77', '24', '143', '57', '152', '17', '45', '12']\n",
      "Topic 3:\n",
      "['59', '109', '56', '38', '36', '88', '22', '37', '14', '33']\n",
      "Topic 4:\n",
      "['10', '65', '59', '109', '56', '31', '42', '387', '25', '20']\n",
      "Topic 5:\n",
      "['109', '59', '65', '10', '29', '49', '35', '18', '11', '16']\n"
     ]
    }
   ],
   "source": [
    "# Topic Modeling using LDA\n",
    "from sklearn.feature_extraction.text import CountVectorizer\n",
    "from sklearn.decomposition import LatentDirichletAllocation\n",
    "\n",
    "count_vect = CountVectorizer(max_df=0.9, min_df=2, stop_words='english')\n",
    "doc_term_matrix = count_vect.fit_transform(df['Comments'])\n",
    "\n",
    "lda = LatentDirichletAllocation(n_components=5, random_state=42)\n",
    "lda.fit(doc_term_matrix)\n",
    "\n",
    "# Print the top words per topic\n",
    "words = count_vect.get_feature_names_out()\n",
    "for idx, topic in enumerate(lda.components_):\n",
    "    print(f\"Topic {idx + 1}:\")\n",
    "    print([words[i] for i in topic.argsort()[-10:]])\n"
   ]
  },
  {
   "cell_type": "code",
   "execution_count": 53,
   "id": "76e75135-77b3-4fd9-8afe-21385dc4ee1e",
   "metadata": {},
   "outputs": [],
   "source": [
    "# Load stock price data\n",
    "stock_df = pd.read_csv(r'C:\\Users\\Asus Vivobook 15\\Downloads\\Stock_Sentiment_Analysis-main\\Stock_Sentiment_Analysis-main\\notebooks\\reddit_stock_data.csv')  # Replace with your actual file path\n",
    "stock_df['Date'] = pd.to_datetime(stock_df['Date'])  # Ensure the Date column is in datetime format\n",
    "\n",
    "\n"
   ]
  },
  {
   "cell_type": "code",
   "execution_count": 55,
   "id": "e456da85-3253-4335-9d63-88798354de18",
   "metadata": {},
   "outputs": [
    {
     "name": "stdout",
     "output_type": "stream",
     "text": [
      "Sentiment DataFrame Date type: float64\n",
      "Stock DataFrame Date type: datetime64[ns]\n",
      "NaT in Sentiment DataFrame: 0\n",
      "NaT in Stock DataFrame: 0\n",
      "Merged DataFrame:\n",
      "      Subreddit_x                                            Title_x  \\\n",
      "0  wallstreetbets  Weekend Discussion Thread for the Weekend of N...   \n",
      "1  wallstreetbets               Weekly Earnings Thread 11/25 - 11/29   \n",
      "2  wallstreetbets  An investor says he put 98% of his retirement ...   \n",
      "3  wallstreetbets  Markets Misread Trump Win, Says Ex-Goldman Sac...   \n",
      "4  wallstreetbets  $19k ===> $267k in MSTR. I told you 4 months a...   \n",
      "\n",
      "                                              Body_x  Score_x  Upvote Ratio_x  \\\n",
      "0  This post contains content not supported on ol...      134            0.95   \n",
      "1                                                NaN      100            0.97   \n",
      "2                                                NaN      523            0.93   \n",
      "3  -'Prospect of tariffs not good for equities, b...      788            0.88   \n",
      "4  I bought these calls back in June/July 2024. I...     3473            0.93   \n",
      "\n",
      "  Comments_x                          Date  \\\n",
      "0       6851 1970-01-01 00:00:01.732309034   \n",
      "1        385 1970-01-01 00:00:01.732288050   \n",
      "2        164 1970-01-01 00:00:01.732417440   \n",
      "3        229 1970-01-01 00:00:01.732408481   \n",
      "4        399 1970-01-01 00:00:01.732356939   \n",
      "\n",
      "                                     Cleaned Title_x  \\\n",
      "0  Weekend Discussion Thread for the Weekend of N...   \n",
      "1               Weekly Earnings Thread 11/25 - 11/29   \n",
      "2  An investor says he put 98% of his retirement ...   \n",
      "3  Markets Misread Trump Win, Says Ex-Goldman Sac...   \n",
      "4  $19k ===> $267k in MSTR. I told you 4 months a...   \n",
      "\n",
      "                                      Cleaned Body_x  Title Sentiment_x  ...  \\\n",
      "0  This post contains content not supported on ol...              0.000  ...   \n",
      "1                                                NaN              0.000  ...   \n",
      "2                                                NaN             -0.400  ...   \n",
      "3  -'Prospect of tariffs not good for equities, b...              0.225  ...   \n",
      "4  I bought these calls back in June/July 2024. I...              0.000  ...   \n",
      "\n",
      "      Subreddit_y                                            Title_y  \\\n",
      "0  wallstreetbets  Weekend Discussion Thread for the Weekend of N...   \n",
      "1  wallstreetbets               Weekly Earnings Thread 11/25 - 11/29   \n",
      "2  wallstreetbets  An investor says he put 98% of his retirement ...   \n",
      "3  wallstreetbets  Markets Misread Trump Win, Says Ex-Goldman Sac...   \n",
      "4  wallstreetbets  $19k ===> $267k in MSTR. I told you 4 months a...   \n",
      "\n",
      "                                              Body_y  Score_y Upvote Ratio_y  \\\n",
      "0  This post contains content not supported on ol...      134           0.95   \n",
      "1                                                NaN      100           0.97   \n",
      "2                                                NaN      523           0.93   \n",
      "3  -'Prospect of tariffs not good for equities, b...      788           0.88   \n",
      "4  I bought these calls back in June/July 2024. I...     3473           0.93   \n",
      "\n",
      "  Comments_y                                    Cleaned Title_y  \\\n",
      "0       6851  Weekend Discussion Thread for the Weekend of N...   \n",
      "1        385               Weekly Earnings Thread 11/25 - 11/29   \n",
      "2        164  An investor says he put 98% of his retirement ...   \n",
      "3        229  Markets Misread Trump Win, Says Ex-Goldman Sac...   \n",
      "4        399  $19k ===> $267k in MSTR. I told you 4 months a...   \n",
      "\n",
      "                                      Cleaned Body_y  Title Sentiment_y  \\\n",
      "0  This post contains content not supported on ol...              0.000   \n",
      "1                                                NaN              0.000   \n",
      "2                                                NaN             -0.400   \n",
      "3  -'Prospect of tariffs not good for equities, b...              0.225   \n",
      "4  I bought these calls back in June/July 2024. I...              0.000   \n",
      "\n",
      "   Body Sentiment_y  \n",
      "0          0.225000  \n",
      "1          0.000000  \n",
      "2          0.000000  \n",
      "3          0.283333  \n",
      "4         -0.042630  \n",
      "\n",
      "[5 rows x 24 columns]\n"
     ]
    }
   ],
   "source": [
    "# Check the data types of the Date columns\n",
    "print(\"Sentiment DataFrame Date type:\", df['Date'].dtype)\n",
    "print(\"Stock DataFrame Date type:\", stock_df['Date'].dtype)\n",
    "\n",
    "# Convert Date columns to datetime if necessary\n",
    "df['Date'] = pd.to_datetime(df['Date'], errors='coerce')  # Ensure sentiment DataFrame Date is datetime\n",
    "stock_df['Date'] = pd.to_datetime(stock_df['Date'], errors='coerce')  # Ensure stock DataFrame Date is datetime\n",
    "\n",
    "# Check for any NaT values in both DataFrames after conversion\n",
    "print(\"NaT in Sentiment DataFrame:\", df['Date'].isna().sum())\n",
    "print(\"NaT in Stock DataFrame:\", stock_df['Date'].isna().sum())\n",
    "\n",
    "# Now perform the merge\n",
    "merged_df = pd.merge(df, stock_df, on='Date', how='inner')\n",
    "\n",
    "# Check the merged DataFrame structure\n",
    "print(\"Merged DataFrame:\")\n",
    "print(merged_df.head())\n",
    "\n"
   ]
  },
  {
   "cell_type": "code",
   "execution_count": 57,
   "id": "f39b9417-836e-46d6-8a7a-c69cc8d20f90",
   "metadata": {},
   "outputs": [],
   "source": [
    "merged_df.columns = merged_df.columns.str.strip()\n"
   ]
  },
  {
   "cell_type": "code",
   "execution_count": 59,
   "id": "616e4974-9f8f-4378-8d09-6ba9777a63e7",
   "metadata": {},
   "outputs": [
    {
     "name": "stdout",
     "output_type": "stream",
     "text": [
      "Columns in merged DataFrame: ['Subreddit_x', 'Title_x', 'Body_x', 'Score_x', 'Upvote Ratio_x', 'Comments_x', 'Date', 'Cleaned Title_x', 'Cleaned Body_x', 'Title Sentiment_x', 'Body Sentiment_x', 'sentiment_scores', 'sentiment', 'mentions_AAPL', 'Subreddit_y', 'Title_y', 'Body_y', 'Score_y', 'Upvote Ratio_y', 'Comments_y', 'Cleaned Title_y', 'Cleaned Body_y', 'Title Sentiment_y', 'Body Sentiment_y']\n",
      "      Subreddit_x                                            Title_x  \\\n",
      "0  wallstreetbets  Weekend Discussion Thread for the Weekend of N...   \n",
      "1  wallstreetbets               Weekly Earnings Thread 11/25 - 11/29   \n",
      "2  wallstreetbets  An investor says he put 98% of his retirement ...   \n",
      "3  wallstreetbets  Markets Misread Trump Win, Says Ex-Goldman Sac...   \n",
      "4  wallstreetbets  $19k ===> $267k in MSTR. I told you 4 months a...   \n",
      "\n",
      "                                              Body_x  Score_x  Upvote Ratio_x  \\\n",
      "0  This post contains content not supported on ol...      134            0.95   \n",
      "1                                                NaN      100            0.97   \n",
      "2                                                NaN      523            0.93   \n",
      "3  -'Prospect of tariffs not good for equities, b...      788            0.88   \n",
      "4  I bought these calls back in June/July 2024. I...     3473            0.93   \n",
      "\n",
      "  Comments_x                          Date  \\\n",
      "0       6851 1970-01-01 00:00:01.732309034   \n",
      "1        385 1970-01-01 00:00:01.732288050   \n",
      "2        164 1970-01-01 00:00:01.732417440   \n",
      "3        229 1970-01-01 00:00:01.732408481   \n",
      "4        399 1970-01-01 00:00:01.732356939   \n",
      "\n",
      "                                     Cleaned Title_x  \\\n",
      "0  Weekend Discussion Thread for the Weekend of N...   \n",
      "1               Weekly Earnings Thread 11/25 - 11/29   \n",
      "2  An investor says he put 98% of his retirement ...   \n",
      "3  Markets Misread Trump Win, Says Ex-Goldman Sac...   \n",
      "4  $19k ===> $267k in MSTR. I told you 4 months a...   \n",
      "\n",
      "                                      Cleaned Body_x  Title Sentiment_x  ...  \\\n",
      "0  This post contains content not supported on ol...              0.000  ...   \n",
      "1                                                NaN              0.000  ...   \n",
      "2                                                NaN             -0.400  ...   \n",
      "3  -'Prospect of tariffs not good for equities, b...              0.225  ...   \n",
      "4  I bought these calls back in June/July 2024. I...              0.000  ...   \n",
      "\n",
      "      Subreddit_y                                            Title_y  \\\n",
      "0  wallstreetbets  Weekend Discussion Thread for the Weekend of N...   \n",
      "1  wallstreetbets               Weekly Earnings Thread 11/25 - 11/29   \n",
      "2  wallstreetbets  An investor says he put 98% of his retirement ...   \n",
      "3  wallstreetbets  Markets Misread Trump Win, Says Ex-Goldman Sac...   \n",
      "4  wallstreetbets  $19k ===> $267k in MSTR. I told you 4 months a...   \n",
      "\n",
      "                                              Body_y  Score_y Upvote Ratio_y  \\\n",
      "0  This post contains content not supported on ol...      134           0.95   \n",
      "1                                                NaN      100           0.97   \n",
      "2                                                NaN      523           0.93   \n",
      "3  -'Prospect of tariffs not good for equities, b...      788           0.88   \n",
      "4  I bought these calls back in June/July 2024. I...     3473           0.93   \n",
      "\n",
      "  Comments_y                                    Cleaned Title_y  \\\n",
      "0       6851  Weekend Discussion Thread for the Weekend of N...   \n",
      "1        385               Weekly Earnings Thread 11/25 - 11/29   \n",
      "2        164  An investor says he put 98% of his retirement ...   \n",
      "3        229  Markets Misread Trump Win, Says Ex-Goldman Sac...   \n",
      "4        399  $19k ===> $267k in MSTR. I told you 4 months a...   \n",
      "\n",
      "                                      Cleaned Body_y  Title Sentiment_y  \\\n",
      "0  This post contains content not supported on ol...              0.000   \n",
      "1                                                NaN              0.000   \n",
      "2                                                NaN             -0.400   \n",
      "3  -'Prospect of tariffs not good for equities, b...              0.225   \n",
      "4  I bought these calls back in June/July 2024. I...              0.000   \n",
      "\n",
      "   Body Sentiment_y  \n",
      "0          0.225000  \n",
      "1          0.000000  \n",
      "2          0.000000  \n",
      "3          0.283333  \n",
      "4         -0.042630  \n",
      "\n",
      "[5 rows x 24 columns]\n"
     ]
    }
   ],
   "source": [
    "# Check the columns of the merged DataFrame\n",
    "print(\"Columns in merged DataFrame:\", merged_df.columns.tolist())\n",
    "\n",
    "# Inspect the first few rows of the merged DataFrame\n",
    "print(merged_df.head())\n"
   ]
  },
  {
   "cell_type": "code",
   "execution_count": 61,
   "id": "a4188c9d-0622-457e-9cb0-ba46ca13b560",
   "metadata": {},
   "outputs": [
    {
     "name": "stdout",
     "output_type": "stream",
     "text": [
      "Columns in merged DataFrame: ['Subreddit_x', 'Title_x', 'Body_x', 'Score_x', 'Upvote Ratio_x', 'Comments_x', 'Date', 'Cleaned Title_x', 'Cleaned Body_x', 'Title Sentiment_x', 'Body Sentiment_x', 'sentiment_scores', 'sentiment', 'mentions_AAPL', 'Subreddit_y', 'Title_y', 'Body_y', 'Score_y', 'Upvote Ratio_y', 'Comments_y', 'Cleaned Title_y', 'Cleaned Body_y', 'Title Sentiment_y', 'Body Sentiment_y']\n"
     ]
    }
   ],
   "source": [
    "print(\"Columns in merged DataFrame:\", merged_df.columns.tolist())"
   ]
  },
  {
   "cell_type": "code",
   "execution_count": 63,
   "id": "06b07f9e-6cf1-4421-a3c0-ac3ae7ba1090",
   "metadata": {},
   "outputs": [],
   "source": [
    "# Fill NaN values with empty strings to avoid ValueError\n",
    "merged_df['Title_x'] = merged_df['Title_x'].fillna('')\n",
    "merged_df['Body_x'] = merged_df['Body_x'].fillna('')\n",
    "\n",
    "# Create the 'mentions_AAPL' column\n",
    "merged_df['mentions_AAPL'] = merged_df['Title_x'].str.contains('AAPL', case=False).astype(int) + \\\n",
    "                              merged_df['Body_x'].str.contains('AAPL', case=False).astype(int)\n",
    "\n"
   ]
  },
  {
   "cell_type": "code",
   "execution_count": 65,
   "id": "bbc61b66-1a0a-4912-83e3-0429dacab69d",
   "metadata": {},
   "outputs": [
    {
     "name": "stdout",
     "output_type": "stream",
     "text": [
      "      Subreddit_x                                            Title_x  \\\n",
      "0  wallstreetbets  Weekend Discussion Thread for the Weekend of N...   \n",
      "1  wallstreetbets               Weekly Earnings Thread 11/25 - 11/29   \n",
      "2  wallstreetbets  An investor says he put 98% of his retirement ...   \n",
      "3  wallstreetbets  Markets Misread Trump Win, Says Ex-Goldman Sac...   \n",
      "4  wallstreetbets  $19k ===> $267k in MSTR. I told you 4 months a...   \n",
      "\n",
      "                                              Body_x  Score_x  Upvote Ratio_x  \\\n",
      "0  This post contains content not supported on ol...      134            0.95   \n",
      "1                                                         100            0.97   \n",
      "2                                                         523            0.93   \n",
      "3  -'Prospect of tariffs not good for equities, b...      788            0.88   \n",
      "4  I bought these calls back in June/July 2024. I...     3473            0.93   \n",
      "\n",
      "  Comments_x                          Date  \\\n",
      "0       6851 1970-01-01 00:00:01.732309034   \n",
      "1        385 1970-01-01 00:00:01.732288050   \n",
      "2        164 1970-01-01 00:00:01.732417440   \n",
      "3        229 1970-01-01 00:00:01.732408481   \n",
      "4        399 1970-01-01 00:00:01.732356939   \n",
      "\n",
      "                                     Cleaned Title_x  \\\n",
      "0  Weekend Discussion Thread for the Weekend of N...   \n",
      "1               Weekly Earnings Thread 11/25 - 11/29   \n",
      "2  An investor says he put 98% of his retirement ...   \n",
      "3  Markets Misread Trump Win, Says Ex-Goldman Sac...   \n",
      "4  $19k ===> $267k in MSTR. I told you 4 months a...   \n",
      "\n",
      "                                      Cleaned Body_x  Title Sentiment_x  ...  \\\n",
      "0  This post contains content not supported on ol...              0.000  ...   \n",
      "1                                                NaN              0.000  ...   \n",
      "2                                                NaN             -0.400  ...   \n",
      "3  -'Prospect of tariffs not good for equities, b...              0.225  ...   \n",
      "4  I bought these calls back in June/July 2024. I...              0.000  ...   \n",
      "\n",
      "      Subreddit_y                                            Title_y  \\\n",
      "0  wallstreetbets  Weekend Discussion Thread for the Weekend of N...   \n",
      "1  wallstreetbets               Weekly Earnings Thread 11/25 - 11/29   \n",
      "2  wallstreetbets  An investor says he put 98% of his retirement ...   \n",
      "3  wallstreetbets  Markets Misread Trump Win, Says Ex-Goldman Sac...   \n",
      "4  wallstreetbets  $19k ===> $267k in MSTR. I told you 4 months a...   \n",
      "\n",
      "                                              Body_y  Score_y Upvote Ratio_y  \\\n",
      "0  This post contains content not supported on ol...      134           0.95   \n",
      "1                                                NaN      100           0.97   \n",
      "2                                                NaN      523           0.93   \n",
      "3  -'Prospect of tariffs not good for equities, b...      788           0.88   \n",
      "4  I bought these calls back in June/July 2024. I...     3473           0.93   \n",
      "\n",
      "  Comments_y                                    Cleaned Title_y  \\\n",
      "0       6851  Weekend Discussion Thread for the Weekend of N...   \n",
      "1        385               Weekly Earnings Thread 11/25 - 11/29   \n",
      "2        164  An investor says he put 98% of his retirement ...   \n",
      "3        229  Markets Misread Trump Win, Says Ex-Goldman Sac...   \n",
      "4        399  $19k ===> $267k in MSTR. I told you 4 months a...   \n",
      "\n",
      "                                      Cleaned Body_y  Title Sentiment_y  \\\n",
      "0  This post contains content not supported on ol...              0.000   \n",
      "1                                                NaN              0.000   \n",
      "2                                                NaN             -0.400   \n",
      "3  -'Prospect of tariffs not good for equities, b...              0.225   \n",
      "4  I bought these calls back in June/July 2024. I...              0.000   \n",
      "\n",
      "   Body Sentiment_y  \n",
      "0          0.225000  \n",
      "1          0.000000  \n",
      "2          0.000000  \n",
      "3          0.283333  \n",
      "4         -0.042630  \n",
      "\n",
      "[5 rows x 24 columns]\n"
     ]
    }
   ],
   "source": [
    "print(merged_df.head())"
   ]
  },
  {
   "cell_type": "code",
   "execution_count": 67,
   "id": "8260bd7e-fbd7-4658-ae2e-070fc01f4470",
   "metadata": {},
   "outputs": [
    {
     "name": "stdout",
     "output_type": "stream",
     "text": [
      "Correlation matrix:\n",
      "                   Title Sentiment_x  Body Sentiment_x  mentions_AAPL\n",
      "Title Sentiment_x           1.000000          0.164752      -0.024671\n",
      "Body Sentiment_x            0.164752          1.000000      -0.015635\n",
      "mentions_AAPL              -0.024671         -0.015635       1.000000\n"
     ]
    }
   ],
   "source": [
    "# Calculate correlations\n",
    "correlation_matrix = merged_df[['Title Sentiment_x', 'Body Sentiment_x', 'mentions_AAPL']].corr()\n",
    "print(\"Correlation matrix:\")\n",
    "print(correlation_matrix)\n"
   ]
  },
  {
   "cell_type": "code",
   "execution_count": 69,
   "id": "9b545055-b088-4e78-aabd-a11c611b18a4",
   "metadata": {},
   "outputs": [
    {
     "data": {
      "image/png": "[encoded data removed]",
      "text/plain": [
       "<Figure size 1400x700 with 2 Axes>"
      ]
     },
     "metadata": {},
     "output_type": "display_data"
    }
   ],
   "source": [
    "import matplotlib.pyplot as plt\n",
    "import seaborn as sns\n",
    "\n",
    "# Ensure 'Date' is in datetime format\n",
    "merged_df['Date'] = pd.to_datetime(merged_df['Date'])\n",
    "\n",
    "# Set the Date as the index for easier plotting\n",
    "merged_df.set_index('Date', inplace=True)\n",
    "\n",
    "# Plotting sentiment scores and mentions over time\n",
    "plt.figure(figsize=(14, 7))\n",
    "\n",
    "# Plot Sentiment Scores\n",
    "plt.subplot(2, 1, 1)\n",
    "sns.lineplot(data=merged_df, x=merged_df.index, y='Title Sentiment_x', label='Title Sentiment', color='blue')\n",
    "sns.lineplot(data=merged_df, x=merged_df.index, y='Body Sentiment_x', label='Body Sentiment', color='orange')\n",
    "plt.title('Trends in Stock Sentiment Over Time')\n",
    "plt.xlabel('Date')\n",
    "plt.ylabel('Sentiment Score')\n",
    "plt.legend()\n",
    "plt.xticks(rotation=45)\n",
    "\n",
    "# Plot Mentions\n",
    "plt.subplot(2, 1, 2)\n",
    "sns.lineplot(data=merged_df, x=merged_df.index, y='mentions_AAPL', label='Mentions of AAPL', color='green')\n",
    "plt.title('Frequency of Mentions Over Time')\n",
    "plt.xlabel('Date')\n",
    "plt.ylabel('Mentions Count')\n",
    "plt.legend()\n",
    "plt.xticks(rotation=45)\n",
    "\n",
    "plt.tight_layout()\n",
    "plt.show()\n"
   ]
  },
  {
   "cell_type": "code",
   "execution_count": 71,
   "id": "3e650be1-3e43-43a7-af28-992bed5a2540",
   "metadata": {},
   "outputs": [
    {
     "name": "stdout",
     "output_type": "stream",
     "text": [
      "['Subreddit_x', 'Title_x', 'Body_x', 'Score_x', 'Upvote Ratio_x', 'Comments_x', 'Cleaned Title_x', 'Cleaned Body_x', 'Title Sentiment_x', 'Body Sentiment_x', 'sentiment_scores', 'sentiment', 'mentions_AAPL', 'Subreddit_y', 'Title_y', 'Body_y', 'Score_y', 'Upvote Ratio_y', 'Comments_y', 'Cleaned Title_y', 'Cleaned Body_y', 'Title Sentiment_y', 'Body Sentiment_y']\n"
     ]
    }
   ],
   "source": [
    "print(merged_df.columns.tolist())\n"
   ]
  },
  {
   "cell_type": "code",
   "execution_count": 73,
   "id": "16619539-1ed0-4fe7-af7f-13d5a861a498",
   "metadata": {},
   "outputs": [
    {
     "name": "stdout",
     "output_type": "stream",
     "text": [
      "Columns in merged_df: ['Subreddit_x', 'Title_x', 'Body_x', 'Score_x', 'Upvote Ratio_x', 'Comments_x', 'Cleaned Title_x', 'Cleaned Body_x', 'Title Sentiment_x', 'Body Sentiment_x', 'sentiment_scores', 'sentiment', 'mentions_AAPL', 'Subreddit_y', 'Title_y', 'Body_y', 'Score_y', 'Upvote Ratio_y', 'Comments_y', 'Cleaned Title_y', 'Cleaned Body_y', 'Title Sentiment_y', 'Body Sentiment_y']\n"
     ]
    }
   ],
   "source": [
    "print(\"Columns in merged_df:\", merged_df.columns.tolist())\n"
   ]
  },
  {
   "cell_type": "code",
   "execution_count": 77,
   "id": "435ac185-a889-451a-8e6e-c154925f7409",
   "metadata": {},
   "outputs": [
    {
     "name": "stdout",
     "output_type": "stream",
     "text": [
      "                                  Subreddit_x  \\\n",
      "Date                                            \n",
      "1970-01-01 00:00:01.727381295  wallstreetbets   \n",
      "1970-01-01 00:00:01.727690231  wallstreetbets   \n",
      "1970-01-01 00:00:01.727671178  wallstreetbets   \n",
      "1970-01-01 00:00:01.727707962  wallstreetbets   \n",
      "1970-01-01 00:00:01.727716642  wallstreetbets   \n",
      "\n",
      "                                                                         Title_x  \\\n",
      "Date                                                                               \n",
      "1970-01-01 00:00:01.727381295  Most Anticipated Earnings for the week beginni...   \n",
      "1970-01-01 00:00:01.727690231     Daily Discussion Thread for September 30, 2024   \n",
      "1970-01-01 00:00:01.727671178  Billionaire Peter Thiel sold $600 million of P...   \n",
      "1970-01-01 00:00:01.727707962                                          Loss Porn   \n",
      "1970-01-01 00:00:01.727716642  This is the moment we know OpenAI will be dead...   \n",
      "\n",
      "                                                                          Body_x  \\\n",
      "Date                                                                               \n",
      "1970-01-01 00:00:01.727381295                                                      \n",
      "1970-01-01 00:00:01.727690231  [View Post](https://sh.reddit.com/r/wallstreet...   \n",
      "1970-01-01 00:00:01.727671178                                                      \n",
      "1970-01-01 00:00:01.727707962  Started in 2021 with a 3k loss to that whole G...   \n",
      "1970-01-01 00:00:01.727716642                                                      \n",
      "\n",
      "                               Score_x  Upvote Ratio_x  Comments_x  \\\n",
      "Date                                                                 \n",
      "1970-01-01 00:00:01.727381295      141            0.98         498   \n",
      "1970-01-01 00:00:01.727690231      118            0.90        6511   \n",
      "1970-01-01 00:00:01.727671178     3519            0.97         220   \n",
      "1970-01-01 00:00:01.727707962      426            0.96         131   \n",
      "1970-01-01 00:00:01.727716642      217            0.98          24   \n",
      "\n",
      "                                                                 Cleaned Title_x  \\\n",
      "Date                                                                               \n",
      "1970-01-01 00:00:01.727381295  Most Anticipated Earnings for the week beginni...   \n",
      "1970-01-01 00:00:01.727690231     Daily Discussion Thread for September 30, 2024   \n",
      "1970-01-01 00:00:01.727671178  Billionaire Peter Thiel sold $600 million of P...   \n",
      "1970-01-01 00:00:01.727707962                                          Loss Porn   \n",
      "1970-01-01 00:00:01.727716642  This is the moment we know OpenAI will be dead...   \n",
      "\n",
      "                                                                  Cleaned Body_x  \\\n",
      "Date                                                                               \n",
      "1970-01-01 00:00:01.727381295                                                NaN   \n",
      "1970-01-01 00:00:01.727690231                                       [View Post](   \n",
      "1970-01-01 00:00:01.727671178                                                NaN   \n",
      "1970-01-01 00:00:01.727707962  Started in 2021 with a 3k loss to that whole G...   \n",
      "1970-01-01 00:00:01.727716642                                                NaN   \n",
      "\n",
      "                               Title Sentiment_x  Body Sentiment_x  ...  \\\n",
      "Date                                                                ...   \n",
      "1970-01-01 00:00:01.727381295                0.5               0.0  ...   \n",
      "1970-01-01 00:00:01.727690231                0.0               0.0  ...   \n",
      "1970-01-01 00:00:01.727671178                0.0               0.0  ...   \n",
      "1970-01-01 00:00:01.727707962                0.0              -0.2  ...   \n",
      "1970-01-01 00:00:01.727716642               -0.2               0.0  ...   \n",
      "\n",
      "                                                                         Title_y  \\\n",
      "Date                                                                               \n",
      "1970-01-01 00:00:01.727381295  Most Anticipated Earnings for the week beginni...   \n",
      "1970-01-01 00:00:01.727690231     Daily Discussion Thread for September 30, 2024   \n",
      "1970-01-01 00:00:01.727671178  Billionaire Peter Thiel sold $600 million of P...   \n",
      "1970-01-01 00:00:01.727707962                                          Loss Porn   \n",
      "1970-01-01 00:00:01.727716642  This is the moment we know OpenAI will be dead...   \n",
      "\n",
      "                                                                          Body_y  \\\n",
      "Date                                                                               \n",
      "1970-01-01 00:00:01.727381295                                                NaN   \n",
      "1970-01-01 00:00:01.727690231  [View Post](https://sh.reddit.com/r/wallstreet...   \n",
      "1970-01-01 00:00:01.727671178                                                NaN   \n",
      "1970-01-01 00:00:01.727707962  Started in 2021 with a 3k loss to that whole G...   \n",
      "1970-01-01 00:00:01.727716642                                                NaN   \n",
      "\n",
      "                              Score_y  Upvote Ratio_y  Comments_y  \\\n",
      "Date                                                                \n",
      "1970-01-01 00:00:01.727381295     141            0.98         498   \n",
      "1970-01-01 00:00:01.727690231     118            0.90        6511   \n",
      "1970-01-01 00:00:01.727671178    3519            0.97         220   \n",
      "1970-01-01 00:00:01.727707962     426            0.96         131   \n",
      "1970-01-01 00:00:01.727716642     217            0.98          24   \n",
      "\n",
      "                                                                 Cleaned Title_y  \\\n",
      "Date                                                                               \n",
      "1970-01-01 00:00:01.727381295  Most Anticipated Earnings for the week beginni...   \n",
      "1970-01-01 00:00:01.727690231     Daily Discussion Thread for September 30, 2024   \n",
      "1970-01-01 00:00:01.727671178  Billionaire Peter Thiel sold $600 million of P...   \n",
      "1970-01-01 00:00:01.727707962                                          Loss Porn   \n",
      "1970-01-01 00:00:01.727716642  This is the moment we know OpenAI will be dead...   \n",
      "\n",
      "                                                                  Cleaned Body_y  \\\n",
      "Date                                                                               \n",
      "1970-01-01 00:00:01.727381295                                                NaN   \n",
      "1970-01-01 00:00:01.727690231                                       [View Post](   \n",
      "1970-01-01 00:00:01.727671178                                                NaN   \n",
      "1970-01-01 00:00:01.727707962  Started in 2021 with a 3k loss to that whole G...   \n",
      "1970-01-01 00:00:01.727716642                                                NaN   \n",
      "\n",
      "                              Title Sentiment_y  Body Sentiment_y  \\\n",
      "Date                                                                \n",
      "1970-01-01 00:00:01.727381295               0.5               0.0   \n",
      "1970-01-01 00:00:01.727690231               0.0               0.0   \n",
      "1970-01-01 00:00:01.727671178               0.0               0.0   \n",
      "1970-01-01 00:00:01.727707962               0.0              -0.2   \n",
      "1970-01-01 00:00:01.727716642              -0.2               0.0   \n",
      "\n",
      "                               mentions_AAPL  \n",
      "Date                                          \n",
      "1970-01-01 00:00:01.727381295              0  \n",
      "1970-01-01 00:00:01.727690231              0  \n",
      "1970-01-01 00:00:01.727671178              0  \n",
      "1970-01-01 00:00:01.727707962              0  \n",
      "1970-01-01 00:00:01.727716642              0  \n",
      "\n",
      "[5 rows x 21 columns]\n"
     ]
    }
   ],
   "source": [
    "print(merged_df.head())\n"
   ]
  },
  {
   "cell_type": "code",
   "execution_count": 75,
   "id": "a40d4958-eac6-4de4-bd93-c1033755bb3a",
   "metadata": {},
   "outputs": [
    {
     "name": "stdout",
     "output_type": "stream",
     "text": [
      "Columns in merged_df: ['Subreddit_x', 'Title_x', 'Body_x', 'Score_x', 'Upvote Ratio_x', 'Comments_x', 'Cleaned Title_x', 'Cleaned Body_x', 'Title Sentiment_x', 'Body Sentiment_x', 'sentiment_scores', 'sentiment', 'mentions_AAPL', 'Subreddit_y', 'Title_y', 'Body_y', 'Score_y', 'Upvote Ratio_y', 'Comments_y', 'Cleaned Title_y', 'Cleaned Body_y', 'Title Sentiment_y', 'Body Sentiment_y']\n"
     ]
    }
   ],
   "source": [
    "# Display all columns in merged_df\n",
    "print(\"Columns in merged_df:\", merged_df.columns.tolist())\n",
    "\n"
   ]
  },
  {
   "cell_type": "code",
   "execution_count": 77,
   "id": "f70fab11-c49b-4e6c-bca2-bf4a10e1fa29",
   "metadata": {},
   "outputs": [
    {
     "name": "stderr",
     "output_type": "stream",
     "text": [
      "[*********************100%***********************]  1 of 1 completed"
     ]
    },
    {
     "name": "stdout",
     "output_type": "stream",
     "text": [
      "Price        Date Stock Price\n",
      "Ticker                   AAPL\n",
      "0      2024-01-02  185.639999\n",
      "1      2024-01-03  184.250000\n",
      "2      2024-01-04  181.910004\n",
      "3      2024-01-05  181.179993\n",
      "4      2024-01-08  185.559998\n"
     ]
    },
    {
     "name": "stderr",
     "output_type": "stream",
     "text": [
      "\n"
     ]
    }
   ],
   "source": [
    "import yfinance as yf\n",
    "import pandas as pd\n",
    "\n",
    "# Fetch historical data for AAPL (replace with the stock ticker you're interested in)\n",
    "ticker = 'AAPL'\n",
    "start_date = '2024-01-01'\n",
    "end_date = '2024-11-11'  # Adjust this to your needs\n",
    "\n",
    "# Download stock price data\n",
    "stock_data = yf.download(ticker, start=start_date, end=end_date)\n",
    "\n",
    "# Reset index to make 'Date' a column\n",
    "stock_data.reset_index(inplace=True)\n",
    "\n",
    "# Select relevant columns, e.g., 'Date' and 'Close'\n",
    "stock_data = stock_data[['Date', 'Close']]\n",
    "stock_data.rename(columns={'Close': 'Stock Price'}, inplace=True)\n",
    "\n",
    "# Display stock_data\n",
    "print(stock_data.head())"
   ]
  },
  {
   "cell_type": "code",
   "execution_count": 79,
   "id": "096c89d1-d6dc-4bfc-a2fe-cbc667eb4721",
   "metadata": {},
   "outputs": [
    {
     "name": "stdout",
     "output_type": "stream",
     "text": [
      "Subreddit_x           0\n",
      "Title_x               0\n",
      "Body_x                0\n",
      "Score_x               0\n",
      "Upvote Ratio_x        0\n",
      "Comments_x            0\n",
      "Cleaned Title_x       0\n",
      "Cleaned Body_x       30\n",
      "Title Sentiment_x     0\n",
      "Body Sentiment_x      0\n",
      "sentiment_scores      0\n",
      "sentiment             0\n",
      "mentions_AAPL         0\n",
      "Subreddit_y           0\n",
      "Title_y               0\n",
      "Body_y               30\n",
      "Score_y               0\n",
      "Upvote Ratio_y        0\n",
      "Comments_y            0\n",
      "Cleaned Title_y       0\n",
      "Cleaned Body_y       30\n",
      "Title Sentiment_y     0\n",
      "Body Sentiment_y      0\n",
      "dtype: int64\n",
      "                                  Subreddit_x  \\\n",
      "Date                                            \n",
      "1970-01-01 00:00:01.732309034  wallstreetbets   \n",
      "1970-01-01 00:00:01.732288050  wallstreetbets   \n",
      "1970-01-01 00:00:01.732417440  wallstreetbets   \n",
      "1970-01-01 00:00:01.732408481  wallstreetbets   \n",
      "1970-01-01 00:00:01.732356939  wallstreetbets   \n",
      "\n",
      "                                                                         Title_x  \\\n",
      "Date                                                                               \n",
      "1970-01-01 00:00:01.732309034  Weekend Discussion Thread for the Weekend of N...   \n",
      "1970-01-01 00:00:01.732288050               Weekly Earnings Thread 11/25 - 11/29   \n",
      "1970-01-01 00:00:01.732417440  An investor says he put 98% of his retirement ...   \n",
      "1970-01-01 00:00:01.732408481  Markets Misread Trump Win, Says Ex-Goldman Sac...   \n",
      "1970-01-01 00:00:01.732356939  $19k ===> $267k in MSTR. I told you 4 months a...   \n",
      "\n",
      "                                                                          Body_x  \\\n",
      "Date                                                                               \n",
      "1970-01-01 00:00:01.732309034  This post contains content not supported on ol...   \n",
      "1970-01-01 00:00:01.732288050                                                      \n",
      "1970-01-01 00:00:01.732417440                                                      \n",
      "1970-01-01 00:00:01.732408481  -'Prospect of tariffs not good for equities, b...   \n",
      "1970-01-01 00:00:01.732356939  I bought these calls back in June/July 2024. I...   \n",
      "\n",
      "                               Score_x  Upvote Ratio_x Comments_x  \\\n",
      "Date                                                                \n",
      "1970-01-01 00:00:01.732309034      134            0.95       6851   \n",
      "1970-01-01 00:00:01.732288050      100            0.97        385   \n",
      "1970-01-01 00:00:01.732417440      523            0.93        164   \n",
      "1970-01-01 00:00:01.732408481      788            0.88        229   \n",
      "1970-01-01 00:00:01.732356939     3473            0.93        399   \n",
      "\n",
      "                                                                 Cleaned Title_x  \\\n",
      "Date                                                                               \n",
      "1970-01-01 00:00:01.732309034  Weekend Discussion Thread for the Weekend of N...   \n",
      "1970-01-01 00:00:01.732288050               Weekly Earnings Thread 11/25 - 11/29   \n",
      "1970-01-01 00:00:01.732417440  An investor says he put 98% of his retirement ...   \n",
      "1970-01-01 00:00:01.732408481  Markets Misread Trump Win, Says Ex-Goldman Sac...   \n",
      "1970-01-01 00:00:01.732356939  $19k ===> $267k in MSTR. I told you 4 months a...   \n",
      "\n",
      "                                                                  Cleaned Body_x  \\\n",
      "Date                                                                               \n",
      "1970-01-01 00:00:01.732309034  This post contains content not supported on ol...   \n",
      "1970-01-01 00:00:01.732288050                                                NaN   \n",
      "1970-01-01 00:00:01.732417440                                                NaN   \n",
      "1970-01-01 00:00:01.732408481  -'Prospect of tariffs not good for equities, b...   \n",
      "1970-01-01 00:00:01.732356939  I bought these calls back in June/July 2024. I...   \n",
      "\n",
      "                               Title Sentiment_x  Body Sentiment_x  ...  \\\n",
      "Date                                                                ...   \n",
      "1970-01-01 00:00:01.732309034              0.000          0.225000  ...   \n",
      "1970-01-01 00:00:01.732288050              0.000          0.000000  ...   \n",
      "1970-01-01 00:00:01.732417440             -0.400          0.000000  ...   \n",
      "1970-01-01 00:00:01.732408481              0.225          0.283333  ...   \n",
      "1970-01-01 00:00:01.732356939              0.000         -0.042630  ...   \n",
      "\n",
      "                                  Subreddit_y  \\\n",
      "Date                                            \n",
      "1970-01-01 00:00:01.732309034  wallstreetbets   \n",
      "1970-01-01 00:00:01.732288050  wallstreetbets   \n",
      "1970-01-01 00:00:01.732417440  wallstreetbets   \n",
      "1970-01-01 00:00:01.732408481  wallstreetbets   \n",
      "1970-01-01 00:00:01.732356939  wallstreetbets   \n",
      "\n",
      "                                                                         Title_y  \\\n",
      "Date                                                                               \n",
      "1970-01-01 00:00:01.732309034  Weekend Discussion Thread for the Weekend of N...   \n",
      "1970-01-01 00:00:01.732288050               Weekly Earnings Thread 11/25 - 11/29   \n",
      "1970-01-01 00:00:01.732417440  An investor says he put 98% of his retirement ...   \n",
      "1970-01-01 00:00:01.732408481  Markets Misread Trump Win, Says Ex-Goldman Sac...   \n",
      "1970-01-01 00:00:01.732356939  $19k ===> $267k in MSTR. I told you 4 months a...   \n",
      "\n",
      "                                                                          Body_y  \\\n",
      "Date                                                                               \n",
      "1970-01-01 00:00:01.732309034  This post contains content not supported on ol...   \n",
      "1970-01-01 00:00:01.732288050                                                NaN   \n",
      "1970-01-01 00:00:01.732417440                                                NaN   \n",
      "1970-01-01 00:00:01.732408481  -'Prospect of tariffs not good for equities, b...   \n",
      "1970-01-01 00:00:01.732356939  I bought these calls back in June/July 2024. I...   \n",
      "\n",
      "                              Score_y Upvote Ratio_y Comments_y  \\\n",
      "Date                                                              \n",
      "1970-01-01 00:00:01.732309034     134           0.95       6851   \n",
      "1970-01-01 00:00:01.732288050     100           0.97        385   \n",
      "1970-01-01 00:00:01.732417440     523           0.93        164   \n",
      "1970-01-01 00:00:01.732408481     788           0.88        229   \n",
      "1970-01-01 00:00:01.732356939    3473           0.93        399   \n",
      "\n",
      "                                                                 Cleaned Title_y  \\\n",
      "Date                                                                               \n",
      "1970-01-01 00:00:01.732309034  Weekend Discussion Thread for the Weekend of N...   \n",
      "1970-01-01 00:00:01.732288050               Weekly Earnings Thread 11/25 - 11/29   \n",
      "1970-01-01 00:00:01.732417440  An investor says he put 98% of his retirement ...   \n",
      "1970-01-01 00:00:01.732408481  Markets Misread Trump Win, Says Ex-Goldman Sac...   \n",
      "1970-01-01 00:00:01.732356939  $19k ===> $267k in MSTR. I told you 4 months a...   \n",
      "\n",
      "                                                                  Cleaned Body_y  \\\n",
      "Date                                                                               \n",
      "1970-01-01 00:00:01.732309034  This post contains content not supported on ol...   \n",
      "1970-01-01 00:00:01.732288050                                                NaN   \n",
      "1970-01-01 00:00:01.732417440                                                NaN   \n",
      "1970-01-01 00:00:01.732408481  -'Prospect of tariffs not good for equities, b...   \n",
      "1970-01-01 00:00:01.732356939  I bought these calls back in June/July 2024. I...   \n",
      "\n",
      "                               Title Sentiment_y Body Sentiment_y  \n",
      "Date                                                               \n",
      "1970-01-01 00:00:01.732309034              0.000         0.225000  \n",
      "1970-01-01 00:00:01.732288050              0.000         0.000000  \n",
      "1970-01-01 00:00:01.732417440             -0.400         0.000000  \n",
      "1970-01-01 00:00:01.732408481              0.225         0.283333  \n",
      "1970-01-01 00:00:01.732356939              0.000        -0.042630  \n",
      "\n",
      "[5 rows x 23 columns]\n"
     ]
    }
   ],
   "source": [
    "# Display the merged DataFrame and check for null values\n",
    "print(merged_df.isnull().sum())\n",
    "print(merged_df.head())\n"
   ]
  },
  {
   "cell_type": "code",
   "execution_count": 95,
   "id": "482edc5a-3308-4f52-a87b-09f8ae404ac3",
   "metadata": {},
   "outputs": [
    {
     "name": "stdout",
     "output_type": "stream",
     "text": [
      "Unique dates in stock_data:\n",
      "<DatetimeArray>\n",
      "['2023-01-03 00:00:00', '2023-01-04 00:00:00', '2023-01-05 00:00:00',\n",
      " '2023-01-06 00:00:00', '2023-01-09 00:00:00', '2023-01-10 00:00:00',\n",
      " '2023-01-11 00:00:00', '2023-01-12 00:00:00', '2023-01-13 00:00:00',\n",
      " '2023-01-17 00:00:00',\n",
      " ...\n",
      " '2023-12-15 00:00:00', '2023-12-18 00:00:00', '2023-12-19 00:00:00',\n",
      " '2023-12-20 00:00:00', '2023-12-21 00:00:00', '2023-12-22 00:00:00',\n",
      " '2023-12-26 00:00:00', '2023-12-27 00:00:00', '2023-12-28 00:00:00',\n",
      " '2023-12-29 00:00:00']\n",
      "Length: 250, dtype: datetime64[ns]\n",
      "Unique dates in merged_df:\n",
      "<DatetimeArray>\n",
      "['1970-01-01 00:00:01.727381295', '1970-01-01 00:00:01.727690231',\n",
      " '1970-01-01 00:00:01.727671178', '1970-01-01 00:00:01.727707962',\n",
      " '1970-01-01 00:00:01.727716642', '1970-01-01 00:00:01.727720104',\n",
      " '1970-01-01 00:00:01.727709923', '1970-01-01 00:00:01.727712001',\n",
      " '1970-01-01 00:00:01.727642451', '1970-01-01 00:00:01.727720663',\n",
      " ...\n",
      " '1970-01-01 00:00:01.727484126', '1970-01-01 00:00:01.727468320',\n",
      " '1970-01-01 00:00:01.727407107', '1970-01-01 00:00:01.727404031',\n",
      " '1970-01-01 00:00:01.727353983', '1970-01-01 00:00:01.727400631',\n",
      " '1970-01-01 00:00:01.727430800', '1970-01-01 00:00:01.727466295',\n",
      " '1970-01-01 00:00:01.727354834', '1970-01-01 00:00:01.727373212']\n",
      "Length: 300, dtype: datetime64[ns]\n"
     ]
    }
   ],
   "source": [
    "# Check unique dates in stock_data\n",
    "print(\"Unique dates in stock_data:\")\n",
    "print(stock_data['Date'].unique())\n",
    "\n",
    "# Check unique dates in merged_df\n",
    "print(\"Unique dates in merged_df:\")\n",
    "print(merged_df['Date'].unique())\n"
   ]
  },
  {
   "cell_type": "code",
   "execution_count": 91,
   "id": "3fed39de-e43c-4141-a60f-4ffe2ffc6968",
   "metadata": {},
   "outputs": [
    {
     "name": "stdout",
     "output_type": "stream",
     "text": [
      "Sample data from stock_data:\n",
      "Price        Date Stock Price\n",
      "Ticker                   AAPL\n",
      "0      2024-01-02  185.639999\n",
      "1      2024-01-03  184.250000\n",
      "2      2024-01-04  181.910004\n",
      "3      2024-01-05  181.179993\n",
      "4      2024-01-08  185.559998\n",
      "Sample data from merged_df:\n",
      "                                  Subreddit_x  \\\n",
      "Date                                            \n",
      "1970-01-01 00:00:01.732309034  wallstreetbets   \n",
      "1970-01-01 00:00:01.732288050  wallstreetbets   \n",
      "1970-01-01 00:00:01.732417440  wallstreetbets   \n",
      "1970-01-01 00:00:01.732408481  wallstreetbets   \n",
      "1970-01-01 00:00:01.732356939  wallstreetbets   \n",
      "\n",
      "                                                                         Title_x  \\\n",
      "Date                                                                               \n",
      "1970-01-01 00:00:01.732309034  Weekend Discussion Thread for the Weekend of N...   \n",
      "1970-01-01 00:00:01.732288050               Weekly Earnings Thread 11/25 - 11/29   \n",
      "1970-01-01 00:00:01.732417440  An investor says he put 98% of his retirement ...   \n",
      "1970-01-01 00:00:01.732408481  Markets Misread Trump Win, Says Ex-Goldman Sac...   \n",
      "1970-01-01 00:00:01.732356939  $19k ===> $267k in MSTR. I told you 4 months a...   \n",
      "\n",
      "                                                                          Body_x  \\\n",
      "Date                                                                               \n",
      "1970-01-01 00:00:01.732309034  This post contains content not supported on ol...   \n",
      "1970-01-01 00:00:01.732288050                                                      \n",
      "1970-01-01 00:00:01.732417440                                                      \n",
      "1970-01-01 00:00:01.732408481  -'Prospect of tariffs not good for equities, b...   \n",
      "1970-01-01 00:00:01.732356939  I bought these calls back in June/July 2024. I...   \n",
      "\n",
      "                               Score_x  Upvote Ratio_x Comments_x  \\\n",
      "Date                                                                \n",
      "1970-01-01 00:00:01.732309034      134            0.95       6851   \n",
      "1970-01-01 00:00:01.732288050      100            0.97        385   \n",
      "1970-01-01 00:00:01.732417440      523            0.93        164   \n",
      "1970-01-01 00:00:01.732408481      788            0.88        229   \n",
      "1970-01-01 00:00:01.732356939     3473            0.93        399   \n",
      "\n",
      "                                                                 Cleaned Title_x  \\\n",
      "Date                                                                               \n",
      "1970-01-01 00:00:01.732309034  Weekend Discussion Thread for the Weekend of N...   \n",
      "1970-01-01 00:00:01.732288050               Weekly Earnings Thread 11/25 - 11/29   \n",
      "1970-01-01 00:00:01.732417440  An investor says he put 98% of his retirement ...   \n",
      "1970-01-01 00:00:01.732408481  Markets Misread Trump Win, Says Ex-Goldman Sac...   \n",
      "1970-01-01 00:00:01.732356939  $19k ===> $267k in MSTR. I told you 4 months a...   \n",
      "\n",
      "                                                                  Cleaned Body_x  \\\n",
      "Date                                                                               \n",
      "1970-01-01 00:00:01.732309034  This post contains content not supported on ol...   \n",
      "1970-01-01 00:00:01.732288050                                                NaN   \n",
      "1970-01-01 00:00:01.732417440                                                NaN   \n",
      "1970-01-01 00:00:01.732408481  -'Prospect of tariffs not good for equities, b...   \n",
      "1970-01-01 00:00:01.732356939  I bought these calls back in June/July 2024. I...   \n",
      "\n",
      "                               Title Sentiment_x  Body Sentiment_x  ...  \\\n",
      "Date                                                                ...   \n",
      "1970-01-01 00:00:01.732309034              0.000          0.225000  ...   \n",
      "1970-01-01 00:00:01.732288050              0.000          0.000000  ...   \n",
      "1970-01-01 00:00:01.732417440             -0.400          0.000000  ...   \n",
      "1970-01-01 00:00:01.732408481              0.225          0.283333  ...   \n",
      "1970-01-01 00:00:01.732356939              0.000         -0.042630  ...   \n",
      "\n",
      "                                  Subreddit_y  \\\n",
      "Date                                            \n",
      "1970-01-01 00:00:01.732309034  wallstreetbets   \n",
      "1970-01-01 00:00:01.732288050  wallstreetbets   \n",
      "1970-01-01 00:00:01.732417440  wallstreetbets   \n",
      "1970-01-01 00:00:01.732408481  wallstreetbets   \n",
      "1970-01-01 00:00:01.732356939  wallstreetbets   \n",
      "\n",
      "                                                                         Title_y  \\\n",
      "Date                                                                               \n",
      "1970-01-01 00:00:01.732309034  Weekend Discussion Thread for the Weekend of N...   \n",
      "1970-01-01 00:00:01.732288050               Weekly Earnings Thread 11/25 - 11/29   \n",
      "1970-01-01 00:00:01.732417440  An investor says he put 98% of his retirement ...   \n",
      "1970-01-01 00:00:01.732408481  Markets Misread Trump Win, Says Ex-Goldman Sac...   \n",
      "1970-01-01 00:00:01.732356939  $19k ===> $267k in MSTR. I told you 4 months a...   \n",
      "\n",
      "                                                                          Body_y  \\\n",
      "Date                                                                               \n",
      "1970-01-01 00:00:01.732309034  This post contains content not supported on ol...   \n",
      "1970-01-01 00:00:01.732288050                                                NaN   \n",
      "1970-01-01 00:00:01.732417440                                                NaN   \n",
      "1970-01-01 00:00:01.732408481  -'Prospect of tariffs not good for equities, b...   \n",
      "1970-01-01 00:00:01.732356939  I bought these calls back in June/July 2024. I...   \n",
      "\n",
      "                              Score_y Upvote Ratio_y Comments_y  \\\n",
      "Date                                                              \n",
      "1970-01-01 00:00:01.732309034     134           0.95       6851   \n",
      "1970-01-01 00:00:01.732288050     100           0.97        385   \n",
      "1970-01-01 00:00:01.732417440     523           0.93        164   \n",
      "1970-01-01 00:00:01.732408481     788           0.88        229   \n",
      "1970-01-01 00:00:01.732356939    3473           0.93        399   \n",
      "\n",
      "                                                                 Cleaned Title_y  \\\n",
      "Date                                                                               \n",
      "1970-01-01 00:00:01.732309034  Weekend Discussion Thread for the Weekend of N...   \n",
      "1970-01-01 00:00:01.732288050               Weekly Earnings Thread 11/25 - 11/29   \n",
      "1970-01-01 00:00:01.732417440  An investor says he put 98% of his retirement ...   \n",
      "1970-01-01 00:00:01.732408481  Markets Misread Trump Win, Says Ex-Goldman Sac...   \n",
      "1970-01-01 00:00:01.732356939  $19k ===> $267k in MSTR. I told you 4 months a...   \n",
      "\n",
      "                                                                  Cleaned Body_y  \\\n",
      "Date                                                                               \n",
      "1970-01-01 00:00:01.732309034  This post contains content not supported on ol...   \n",
      "1970-01-01 00:00:01.732288050                                                NaN   \n",
      "1970-01-01 00:00:01.732417440                                                NaN   \n",
      "1970-01-01 00:00:01.732408481  -'Prospect of tariffs not good for equities, b...   \n",
      "1970-01-01 00:00:01.732356939  I bought these calls back in June/July 2024. I...   \n",
      "\n",
      "                               Title Sentiment_y Body Sentiment_y  \n",
      "Date                                                               \n",
      "1970-01-01 00:00:01.732309034              0.000         0.225000  \n",
      "1970-01-01 00:00:01.732288050              0.000         0.000000  \n",
      "1970-01-01 00:00:01.732417440             -0.400         0.000000  \n",
      "1970-01-01 00:00:01.732408481              0.225         0.283333  \n",
      "1970-01-01 00:00:01.732356939              0.000        -0.042630  \n",
      "\n",
      "[5 rows x 23 columns]\n"
     ]
    }
   ],
   "source": [
    "# Display sample data from stock_data\n",
    "print(\"Sample data from stock_data:\")\n",
    "print(stock_data.head())\n",
    "\n",
    "# Display sample data from merged_df before the merge\n",
    "print(\"Sample data from merged_df:\")\n",
    "print(merged_df.head())\n"
   ]
  },
  {
   "cell_type": "code",
   "execution_count": 93,
   "id": "e015195c-f6b7-488f-a7c8-9df6a13eea82",
   "metadata": {},
   "outputs": [
    {
     "name": "stdout",
     "output_type": "stream",
     "text": [
      "Columns in merged_df:\n",
      "Index(['Subreddit_x', 'Title_x', 'Body_x', 'Score_x', 'Upvote Ratio_x',\n",
      "       'Comments_x', 'Cleaned Title_x', 'Cleaned Body_x', 'Title Sentiment_x',\n",
      "       'Body Sentiment_x', 'sentiment_scores', 'sentiment', 'mentions_AAPL',\n",
      "       'Subreddit_y', 'Title_y', 'Body_y', 'Score_y', 'Upvote Ratio_y',\n",
      "       'Comments_y', 'Cleaned Title_y', 'Cleaned Body_y', 'Title Sentiment_y',\n",
      "       'Body Sentiment_y'],\n",
      "      dtype='object')\n",
      "Columns in stock_data:\n",
      "MultiIndex([(       'Date',     ''),\n",
      "            ('Stock Price', 'AAPL')],\n",
      "           names=['Price', 'Ticker'])\n"
     ]
    }
   ],
   "source": [
    "# Check columns of merged_df\n",
    "print(\"Columns in merged_df:\")\n",
    "print(merged_df.columns)\n",
    "\n",
    "# Check columns of stock_data\n",
    "print(\"Columns in stock_data:\")\n",
    "print(stock_data.columns)\n",
    "\n"
   ]
  },
  {
   "cell_type": "code",
   "execution_count": 95,
   "id": "8916bf56-b6c0-4bad-94c7-9dba6310043f",
   "metadata": {},
   "outputs": [],
   "source": [
    "# Drop the conflicting column from merged_df\n",
    "merged_df = merged_df.drop(columns=['Stock Price_x'], errors='ignore')\n"
   ]
  },
  {
   "cell_type": "code",
   "execution_count": 255,
   "id": "e677ec8e-57b7-400f-affb-b3f1a22625ec",
   "metadata": {},
   "outputs": [],
   "source": [
    "# Rename the stock price column in stock_data to avoid conflicts\n",
    "stock_data.rename(columns={'Stock Price': 'Stock Price_New'}, inplace=True)\n"
   ]
  },
  {
   "cell_type": "code",
   "execution_count": null,
   "id": "4cab793b-fee9-49ad-87ed-33c86417742b",
   "metadata": {},
   "outputs": [],
   "source": [
    "# Merge the dataframes on the Date column\n",
    "merged_df = pd.merge(merged_df, stock_data[['Date', 'Stock Price_New']], on='Date', how='left')\n",
    "\n",
    "# Display the merged DataFrame\n",
    "print(merged_df.head())"
   ]
  },
  {
   "cell_type": "code",
   "execution_count": null,
   "id": "074ab24f-f3ea-4e5a-b697-908e49fabc3e",
   "metadata": {},
   "outputs": [],
   "source": [
    "# Check the data types of the Date columns\n",
    "print(\"Merged DataFrame Date type:\", merged_df['Date'].dtype)\n",
    "print(\"Stock Data Date type:\", stock_data['Date'].dtype)\n"
   ]
  },
  {
   "cell_type": "code",
   "execution_count": null,
   "id": "aa5b98ee-df00-4b64-a90a-bb7b5a32a34a",
   "metadata": {},
   "outputs": [],
   "source": [
    "# Check unique dates in both DataFrames\n",
    "print(\"Unique Dates in Merged DataFrame:\")\n",
    "print(merged_df['Date'].unique())\n",
    "\n",
    "print(\"Unique Dates in Stock Data:\")\n",
    "print(stock_data['Date'].unique())\n"
   ]
  },
  {
   "cell_type": "code",
   "execution_count": 143,
   "id": "9b3493bb-fceb-4e1a-9743-56d202b8f75c",
   "metadata": {},
   "outputs": [
    {
     "name": "stdout",
     "output_type": "stream",
     "text": [
      "        Subreddit                                              Title  \\\n",
      "0  wallstreetbets  Weekend Discussion Thread for the Weekend of N...   \n",
      "1  wallstreetbets               Weekly Earnings Thread 11/25 - 11/29   \n",
      "2  wallstreetbets  An investor says he put 98% of his retirement ...   \n",
      "3  wallstreetbets  Markets Misread Trump Win, Says Ex-Goldman Sac...   \n",
      "4  wallstreetbets  $19k ===> $267k in MSTR. I told you 4 months a...   \n",
      "\n",
      "                                                Body  Score  Upvote Ratio  \\\n",
      "0  This post contains content not supported on ol...    134          0.95   \n",
      "1                                                NaN    100          0.97   \n",
      "2                                                NaN    523          0.93   \n",
      "3  -'Prospect of tariffs not good for equities, b...    788          0.88   \n",
      "4  I bought these calls back in June/July 2024. I...   3473          0.93   \n",
      "\n",
      "   Comments          Date                                      Cleaned Title  \\\n",
      "0      6851  1.732309e+09  Weekend Discussion Thread for the Weekend of N...   \n",
      "1       385  1.732288e+09               Weekly Earnings Thread 11/25 - 11/29   \n",
      "2       164  1.732417e+09  An investor says he put 98% of his retirement ...   \n",
      "3       229  1.732408e+09  Markets Misread Trump Win, Says Ex-Goldman Sac...   \n",
      "4       399  1.732357e+09  $19k ===> $267k in MSTR. I told you 4 months a...   \n",
      "\n",
      "                                        Cleaned Body  Title Sentiment  \\\n",
      "0  This post contains content not supported on ol...            0.000   \n",
      "1                                                NaN            0.000   \n",
      "2                                                NaN           -0.400   \n",
      "3  -'Prospect of tariffs not good for equities, b...            0.225   \n",
      "4  I bought these calls back in June/July 2024. I...            0.000   \n",
      "\n",
      "   Body Sentiment  \n",
      "0        0.225000  \n",
      "1        0.000000  \n",
      "2        0.000000  \n",
      "3        0.283333  \n",
      "4       -0.042630  \n",
      "Subreddit           0\n",
      "Title               0\n",
      "Body               30\n",
      "Score               0\n",
      "Upvote Ratio        0\n",
      "Comments            0\n",
      "Date                0\n",
      "Cleaned Title       0\n",
      "Cleaned Body       30\n",
      "Title Sentiment     0\n",
      "Body Sentiment      0\n",
      "dtype: int64\n"
     ]
    }
   ],
   "source": [
    "# Load stock data\n",
    "stock_data = pd.read_csv(r'C:\\Users\\Asus Vivobook 15\\Downloads\\Stock_Sentiment_Analysis-main\\Stock_Sentiment_Analysis-main\\notebooks\\reddit_stock_data.csv')\n",
    "# or other appropriate method\n",
    "print(stock_data.head())\n",
    "print(stock_data.isnull().sum())  # Check for NaN values\n",
    "\n"
   ]
  },
  {
   "cell_type": "code",
   "execution_count": 145,
   "id": "b1bfe6cc-b09f-46ff-b2fe-fa3014205228",
   "metadata": {},
   "outputs": [],
   "source": [
    "\n",
    "# Convert Date column to datetime if it's not already\n",
    "stock_data['Date'] = pd.to_datetime(stock_data['Date'], errors='coerce')\n"
   ]
  },
  {
   "cell_type": "code",
   "execution_count": 147,
   "id": "0bb6c9be-7116-4cf4-8bb8-dcf06fdca9ce",
   "metadata": {},
   "outputs": [
    {
     "name": "stdout",
     "output_type": "stream",
     "text": [
      "Unique dates in stock_data: <DatetimeArray>\n",
      "['1970-01-01 00:00:01.732309034', '1970-01-01 00:00:01.732288050',\n",
      " '1970-01-01 00:00:01.732417440', '1970-01-01 00:00:01.732408481',\n",
      " '1970-01-01 00:00:01.732356939', '1970-01-01 00:00:01.732390955',\n",
      " '1970-01-01 00:00:01.732373135', '1970-01-01 00:00:01.732339770',\n",
      " '1970-01-01 00:00:01.732355468', '1970-01-01 00:00:01.732350986',\n",
      " ...\n",
      " '1970-01-01 00:00:01.732115632', '1970-01-01 00:00:01.732225728',\n",
      " '1970-01-01 00:00:01.732144633', '1970-01-01 00:00:01.732183888',\n",
      " '1970-01-01 00:00:01.732074914', '1970-01-01 00:00:01.732178362',\n",
      " '1970-01-01 00:00:01.732212942', '1970-01-01 00:00:01.732131029',\n",
      " '1970-01-01 00:00:01.732121790', '1970-01-01 00:00:01.732196470']\n",
      "Length: 300, dtype: datetime64[ns]\n"
     ]
    }
   ],
   "source": [
    "print(\"Unique dates in stock_data:\", stock_data['Date'].unique())\n"
   ]
  },
  {
   "cell_type": "code",
   "execution_count": 149,
   "id": "22376ae6-c0af-469d-9045-10af5271808e",
   "metadata": {},
   "outputs": [
    {
     "name": "stderr",
     "output_type": "stream",
     "text": [
      "[*********************100%***********************]  1 of 1 completed"
     ]
    },
    {
     "name": "stdout",
     "output_type": "stream",
     "text": [
      "Price        Date   Adj Close Stock Price        High         Low        Open  \\\n",
      "Ticker                   AAPL        AAPL        AAPL        AAPL        AAPL   \n",
      "0      2023-01-03  123.768456  125.070000  130.899994  124.169998  130.279999   \n",
      "1      2023-01-04  125.045044  126.360001  128.660004  125.080002  126.889999   \n",
      "2      2023-01-05  123.718979  125.019997  127.769997  124.760002  127.129997   \n",
      "3      2023-01-06  128.271103  129.619995  130.289993  124.889999  126.010002   \n",
      "4      2023-01-09  128.795578  130.149994  133.410004  129.889999  130.470001   \n",
      "\n",
      "Price      Volume  \n",
      "Ticker       AAPL  \n",
      "0       112117500  \n",
      "1        89113600  \n",
      "2        80962700  \n",
      "3        87754700  \n",
      "4        70790800  \n"
     ]
    },
    {
     "name": "stderr",
     "output_type": "stream",
     "text": [
      "\n"
     ]
    }
   ],
   "source": [
    "import yfinance as yf\n",
    "\n",
    "# Fetch stock data for Apple (AAPL) as an example\n",
    "stock_data = yf.download('AAPL', start='2023-01-01', end='2024-10-01')\n",
    "stock_data.reset_index(inplace=True)  # Reset the index to get Date as a column\n",
    "stock_data.rename(columns={'Close': 'Stock Price'}, inplace=True)\n",
    "\n",
    "# Check the loaded stock data\n",
    "print(stock_data.head())\n"
   ]
  },
  {
   "cell_type": "code",
   "execution_count": null,
   "id": "5daf456f-47f2-4321-8e40-6d83ddae51c4",
   "metadata": {
    "scrolled": true
   },
   "outputs": [],
   "source": [
    "# Convert the Date column to datetime format from UNIX timestamp\n",
    "merged_df['Date'] = pd.to_datetime(merged_df['Date'], unit='s', errors='coerce')\n"
   ]
  },
  {
   "cell_type": "code",
   "execution_count": 153,
   "id": "687df2ab-74cb-4764-81fa-534c20eba072",
   "metadata": {},
   "outputs": [
    {
     "name": "stdout",
     "output_type": "stream",
     "text": [
      "        Subreddit                                              Title  \\\n",
      "0  wallstreetbets  Weekend Discussion Thread for the Weekend of N...   \n",
      "1  wallstreetbets               Weekly Earnings Thread 11/25 - 11/29   \n",
      "2  wallstreetbets  An investor says he put 98% of his retirement ...   \n",
      "3  wallstreetbets  Markets Misread Trump Win, Says Ex-Goldman Sac...   \n",
      "4  wallstreetbets  $19k ===> $267k in MSTR. I told you 4 months a...   \n",
      "\n",
      "                                                Body  Score  Upvote Ratio  \\\n",
      "0  This post contains content not supported on ol...    134          0.95   \n",
      "1                                                NaN    100          0.97   \n",
      "2                                                NaN    523          0.93   \n",
      "3  -'Prospect of tariffs not good for equities, b...    788          0.88   \n",
      "4  I bought these calls back in June/July 2024. I...   3473          0.93   \n",
      "\n",
      "   Comments          Date                                      Cleaned Title  \\\n",
      "0      6851  1.732309e+09  Weekend Discussion Thread for the Weekend of N...   \n",
      "1       385  1.732288e+09               Weekly Earnings Thread 11/25 - 11/29   \n",
      "2       164  1.732417e+09  An investor says he put 98% of his retirement ...   \n",
      "3       229  1.732408e+09  Markets Misread Trump Win, Says Ex-Goldman Sac...   \n",
      "4       399  1.732357e+09  $19k ===> $267k in MSTR. I told you 4 months a...   \n",
      "\n",
      "                                        Cleaned Body  Title Sentiment  \\\n",
      "0  This post contains content not supported on ol...            0.000   \n",
      "1                                                NaN            0.000   \n",
      "2                                                NaN           -0.400   \n",
      "3  -'Prospect of tariffs not good for equities, b...            0.225   \n",
      "4  I bought these calls back in June/July 2024. I...            0.000   \n",
      "\n",
      "   Body Sentiment  \n",
      "0        0.225000  \n",
      "1        0.000000  \n",
      "2        0.000000  \n",
      "3        0.283333  \n",
      "4       -0.042630  \n",
      "Subreddit           object\n",
      "Title               object\n",
      "Body                object\n",
      "Score                int64\n",
      "Upvote Ratio       float64\n",
      "Comments             int64\n",
      "Date               float64\n",
      "Cleaned Title       object\n",
      "Cleaned Body        object\n",
      "Title Sentiment    float64\n",
      "Body Sentiment     float64\n",
      "dtype: object\n"
     ]
    }
   ],
   "source": [
    "import pandas as pd\n",
    "\n",
    "# Load the stock data\n",
    "stock_data = pd.read_csv(r'C:\\Users\\Asus Vivobook 15\\Downloads\\Stock_Sentiment_Analysis-main\\Stock_Sentiment_Analysis-main\\notebooks\\reddit_stock_data.csv')\n",
    "\n",
    "# Check the first few rows and the data types\n",
    "print(stock_data.head())\n",
    "print(stock_data.dtypes)\n",
    "\n",
    "\n"
   ]
  },
  {
   "cell_type": "code",
   "execution_count": 157,
   "id": "aa9f8683-7d5b-4ae8-b765-648dd679057a",
   "metadata": {},
   "outputs": [
    {
     "name": "stdout",
     "output_type": "stream",
     "text": [
      "Subreddit_x           object\n",
      "Title_x               object\n",
      "Body_x                object\n",
      "Score_x                int64\n",
      "Upvote Ratio_x       float64\n",
      "Comments_x            object\n",
      "Cleaned Title_x       object\n",
      "Cleaned Body_x        object\n",
      "Title Sentiment_x    float64\n",
      "Body Sentiment_x     float64\n",
      "sentiment_scores      object\n",
      "sentiment             object\n",
      "mentions_AAPL          int64\n",
      "Subreddit_y           object\n",
      "Title_y               object\n",
      "Body_y                object\n",
      "Score_y                int64\n",
      "Upvote Ratio_y       float64\n",
      "Comments_y             int64\n",
      "Cleaned Title_y       object\n",
      "Cleaned Body_y        object\n",
      "Title Sentiment_y    float64\n",
      "Body Sentiment_y     float64\n",
      "dtype: object\n",
      "                                  Subreddit_x  \\\n",
      "Date                                            \n",
      "1970-01-01 00:00:01.732309034  wallstreetbets   \n",
      "1970-01-01 00:00:01.732288050  wallstreetbets   \n",
      "1970-01-01 00:00:01.732417440  wallstreetbets   \n",
      "1970-01-01 00:00:01.732408481  wallstreetbets   \n",
      "1970-01-01 00:00:01.732356939  wallstreetbets   \n",
      "\n",
      "                                                                         Title_x  \\\n",
      "Date                                                                               \n",
      "1970-01-01 00:00:01.732309034  Weekend Discussion Thread for the Weekend of N...   \n",
      "1970-01-01 00:00:01.732288050               Weekly Earnings Thread 11/25 - 11/29   \n",
      "1970-01-01 00:00:01.732417440  An investor says he put 98% of his retirement ...   \n",
      "1970-01-01 00:00:01.732408481  Markets Misread Trump Win, Says Ex-Goldman Sac...   \n",
      "1970-01-01 00:00:01.732356939  $19k ===> $267k in MSTR. I told you 4 months a...   \n",
      "\n",
      "                                                                          Body_x  \\\n",
      "Date                                                                               \n",
      "1970-01-01 00:00:01.732309034  This post contains content not supported on ol...   \n",
      "1970-01-01 00:00:01.732288050                                                      \n",
      "1970-01-01 00:00:01.732417440                                                      \n",
      "1970-01-01 00:00:01.732408481  -'Prospect of tariffs not good for equities, b...   \n",
      "1970-01-01 00:00:01.732356939  I bought these calls back in June/July 2024. I...   \n",
      "\n",
      "                               Score_x  Upvote Ratio_x Comments_x  \\\n",
      "Date                                                                \n",
      "1970-01-01 00:00:01.732309034      134            0.95       6851   \n",
      "1970-01-01 00:00:01.732288050      100            0.97        385   \n",
      "1970-01-01 00:00:01.732417440      523            0.93        164   \n",
      "1970-01-01 00:00:01.732408481      788            0.88        229   \n",
      "1970-01-01 00:00:01.732356939     3473            0.93        399   \n",
      "\n",
      "                                                                 Cleaned Title_x  \\\n",
      "Date                                                                               \n",
      "1970-01-01 00:00:01.732309034  Weekend Discussion Thread for the Weekend of N...   \n",
      "1970-01-01 00:00:01.732288050               Weekly Earnings Thread 11/25 - 11/29   \n",
      "1970-01-01 00:00:01.732417440  An investor says he put 98% of his retirement ...   \n",
      "1970-01-01 00:00:01.732408481  Markets Misread Trump Win, Says Ex-Goldman Sac...   \n",
      "1970-01-01 00:00:01.732356939  $19k ===> $267k in MSTR. I told you 4 months a...   \n",
      "\n",
      "                                                                  Cleaned Body_x  \\\n",
      "Date                                                                               \n",
      "1970-01-01 00:00:01.732309034  This post contains content not supported on ol...   \n",
      "1970-01-01 00:00:01.732288050                                                NaN   \n",
      "1970-01-01 00:00:01.732417440                                                NaN   \n",
      "1970-01-01 00:00:01.732408481  -'Prospect of tariffs not good for equities, b...   \n",
      "1970-01-01 00:00:01.732356939  I bought these calls back in June/July 2024. I...   \n",
      "\n",
      "                               Title Sentiment_x  Body Sentiment_x  ...  \\\n",
      "Date                                                                ...   \n",
      "1970-01-01 00:00:01.732309034              0.000          0.225000  ...   \n",
      "1970-01-01 00:00:01.732288050              0.000          0.000000  ...   \n",
      "1970-01-01 00:00:01.732417440             -0.400          0.000000  ...   \n",
      "1970-01-01 00:00:01.732408481              0.225          0.283333  ...   \n",
      "1970-01-01 00:00:01.732356939              0.000         -0.042630  ...   \n",
      "\n",
      "                                  Subreddit_y  \\\n",
      "Date                                            \n",
      "1970-01-01 00:00:01.732309034  wallstreetbets   \n",
      "1970-01-01 00:00:01.732288050  wallstreetbets   \n",
      "1970-01-01 00:00:01.732417440  wallstreetbets   \n",
      "1970-01-01 00:00:01.732408481  wallstreetbets   \n",
      "1970-01-01 00:00:01.732356939  wallstreetbets   \n",
      "\n",
      "                                                                         Title_y  \\\n",
      "Date                                                                               \n",
      "1970-01-01 00:00:01.732309034  Weekend Discussion Thread for the Weekend of N...   \n",
      "1970-01-01 00:00:01.732288050               Weekly Earnings Thread 11/25 - 11/29   \n",
      "1970-01-01 00:00:01.732417440  An investor says he put 98% of his retirement ...   \n",
      "1970-01-01 00:00:01.732408481  Markets Misread Trump Win, Says Ex-Goldman Sac...   \n",
      "1970-01-01 00:00:01.732356939  $19k ===> $267k in MSTR. I told you 4 months a...   \n",
      "\n",
      "                                                                          Body_y  \\\n",
      "Date                                                                               \n",
      "1970-01-01 00:00:01.732309034  This post contains content not supported on ol...   \n",
      "1970-01-01 00:00:01.732288050                                                NaN   \n",
      "1970-01-01 00:00:01.732417440                                                NaN   \n",
      "1970-01-01 00:00:01.732408481  -'Prospect of tariffs not good for equities, b...   \n",
      "1970-01-01 00:00:01.732356939  I bought these calls back in June/July 2024. I...   \n",
      "\n",
      "                              Score_y Upvote Ratio_y Comments_y  \\\n",
      "Date                                                              \n",
      "1970-01-01 00:00:01.732309034     134           0.95       6851   \n",
      "1970-01-01 00:00:01.732288050     100           0.97        385   \n",
      "1970-01-01 00:00:01.732417440     523           0.93        164   \n",
      "1970-01-01 00:00:01.732408481     788           0.88        229   \n",
      "1970-01-01 00:00:01.732356939    3473           0.93        399   \n",
      "\n",
      "                                                                 Cleaned Title_y  \\\n",
      "Date                                                                               \n",
      "1970-01-01 00:00:01.732309034  Weekend Discussion Thread for the Weekend of N...   \n",
      "1970-01-01 00:00:01.732288050               Weekly Earnings Thread 11/25 - 11/29   \n",
      "1970-01-01 00:00:01.732417440  An investor says he put 98% of his retirement ...   \n",
      "1970-01-01 00:00:01.732408481  Markets Misread Trump Win, Says Ex-Goldman Sac...   \n",
      "1970-01-01 00:00:01.732356939  $19k ===> $267k in MSTR. I told you 4 months a...   \n",
      "\n",
      "                                                                  Cleaned Body_y  \\\n",
      "Date                                                                               \n",
      "1970-01-01 00:00:01.732309034  This post contains content not supported on ol...   \n",
      "1970-01-01 00:00:01.732288050                                                NaN   \n",
      "1970-01-01 00:00:01.732417440                                                NaN   \n",
      "1970-01-01 00:00:01.732408481  -'Prospect of tariffs not good for equities, b...   \n",
      "1970-01-01 00:00:01.732356939  I bought these calls back in June/July 2024. I...   \n",
      "\n",
      "                               Title Sentiment_y Body Sentiment_y  \n",
      "Date                                                               \n",
      "1970-01-01 00:00:01.732309034              0.000         0.225000  \n",
      "1970-01-01 00:00:01.732288050              0.000         0.000000  \n",
      "1970-01-01 00:00:01.732417440             -0.400         0.000000  \n",
      "1970-01-01 00:00:01.732408481              0.225         0.283333  \n",
      "1970-01-01 00:00:01.732356939              0.000        -0.042630  \n",
      "\n",
      "[5 rows x 23 columns]\n"
     ]
    }
   ],
   "source": [
    "# Check the data types again\n",
    "print(merged_df.dtypes)\n",
    "\n",
    "# Display the first few rows to confirm the Date format\n",
    "print(merged_df.head())\n"
   ]
  },
  {
   "cell_type": "code",
   "execution_count": null,
   "id": "91444256-dbaa-4f2f-bacf-aa89f0ae9cf2",
   "metadata": {},
   "outputs": [],
   "source": [
    "# Check the first few rows and data types of both DataFrames\n",
    "print(\"Merged DataFrame Date Types:\\n\", merged_df[['Date']].head())\n",
    "print(\"Stock Data Date Types:\\n\", stock_data[['Date']].head())\n",
    "\n",
    "print(\"Merged DataFrame Data Types:\\n\", merged_df.dtypes)\n",
    "print(\"Stock Data Data Types:\\n\", stock_data.dtypes)\n"
   ]
  },
  {
   "cell_type": "code",
   "execution_count": null,
   "id": "3b334489-1706-4124-b4ab-6b4271ada54f",
   "metadata": {},
   "outputs": [],
   "source": [
    "# Print unique dates in both DataFrames\n",
    "print(\"Merged DataFrame unique dates:\", merged_df['Date'].unique())\n",
    "print(\"Stock Data unique dates:\", stock_data['Date'].unique())\n"
   ]
  },
  {
   "cell_type": "code",
   "execution_count": null,
   "id": "bff97307-7a2e-4ff9-aa2f-4661bc28f0e8",
   "metadata": {},
   "outputs": [],
   "source": [
    "# Check for NaN values\n",
    "print(\"NaN values in Merged DataFrame Date column:\", merged_df['Date'].isna().sum())\n",
    "print(\"NaN values in Stock Data Date column:\", stock_data['Date'].isna().sum())\n"
   ]
  },
  {
   "cell_type": "code",
   "execution_count": 169,
   "id": "8a6722f1-b90f-40ed-9ccf-6846ebfeff65",
   "metadata": {},
   "outputs": [
    {
     "name": "stdout",
     "output_type": "stream",
     "text": [
      "Stock Price Data:\n",
      "         Subreddit                                              Title  \\\n",
      "0  wallstreetbets  Weekend Discussion Thread for the Weekend of N...   \n",
      "1  wallstreetbets               Weekly Earnings Thread 11/25 - 11/29   \n",
      "2  wallstreetbets  An investor says he put 98% of his retirement ...   \n",
      "3  wallstreetbets  Markets Misread Trump Win, Says Ex-Goldman Sac...   \n",
      "4  wallstreetbets  $19k ===> $267k in MSTR. I told you 4 months a...   \n",
      "\n",
      "                                                Body  Score  Upvote Ratio  \\\n",
      "0  This post contains content not supported on ol...    134          0.95   \n",
      "1                                                NaN    100          0.97   \n",
      "2                                                NaN    523          0.93   \n",
      "3  -'Prospect of tariffs not good for equities, b...    788          0.88   \n",
      "4  I bought these calls back in June/July 2024. I...   3473          0.93   \n",
      "\n",
      "   Comments          Date                                      Cleaned Title  \\\n",
      "0      6851  1.732309e+09  Weekend Discussion Thread for the Weekend of N...   \n",
      "1       385  1.732288e+09               Weekly Earnings Thread 11/25 - 11/29   \n",
      "2       164  1.732417e+09  An investor says he put 98% of his retirement ...   \n",
      "3       229  1.732408e+09  Markets Misread Trump Win, Says Ex-Goldman Sac...   \n",
      "4       399  1.732357e+09  $19k ===> $267k in MSTR. I told you 4 months a...   \n",
      "\n",
      "                                        Cleaned Body  Title Sentiment  \\\n",
      "0  This post contains content not supported on ol...            0.000   \n",
      "1                                                NaN            0.000   \n",
      "2                                                NaN           -0.400   \n",
      "3  -'Prospect of tariffs not good for equities, b...            0.225   \n",
      "4  I bought these calls back in June/July 2024. I...            0.000   \n",
      "\n",
      "   Body Sentiment  \n",
      "0        0.225000  \n",
      "1        0.000000  \n",
      "2        0.000000  \n",
      "3        0.283333  \n",
      "4       -0.042630  \n"
     ]
    }
   ],
   "source": [
    "import pandas as pd\n",
    "\n",
    "# Load stock price data from CSV\n",
    "# Ensure to use a raw string (r'path') or double backslashes for Windows file paths\n",
    "stock_data = pd.read_csv(r'C:\\Users\\Asus Vivobook 15\\Downloads\\Stock_Sentiment_Analysis-main\\Stock_Sentiment_Analysis-main\\notebooks\\reddit_stock_data.csv')  # Update the path as needed\n",
    "\n",
    "# Check the loaded data\n",
    "print(\"Stock Price Data:\\n\", stock_data.head())\n",
    "\n",
    "\n"
   ]
  },
  {
   "cell_type": "code",
   "execution_count": 171,
   "id": "460bcce4-b1e0-4379-9043-fd9f5e29e2a7",
   "metadata": {},
   "outputs": [
    {
     "name": "stdout",
     "output_type": "stream",
     "text": [
      "Columns in Stock Data: Index(['Subreddit', 'Title', 'Body', 'Score', 'Upvote Ratio', 'Comments',\n",
      "       'Date', 'Cleaned Title', 'Cleaned Body', 'Title Sentiment',\n",
      "       'Body Sentiment'],\n",
      "      dtype='object')\n",
      "First few rows of Stock Price Data:\n",
      "         Subreddit                                              Title  \\\n",
      "0  wallstreetbets  Weekend Discussion Thread for the Weekend of N...   \n",
      "1  wallstreetbets               Weekly Earnings Thread 11/25 - 11/29   \n",
      "2  wallstreetbets  An investor says he put 98% of his retirement ...   \n",
      "3  wallstreetbets  Markets Misread Trump Win, Says Ex-Goldman Sac...   \n",
      "4  wallstreetbets  $19k ===> $267k in MSTR. I told you 4 months a...   \n",
      "\n",
      "                                                Body  Score  Upvote Ratio  \\\n",
      "0  This post contains content not supported on ol...    134          0.95   \n",
      "1                                                NaN    100          0.97   \n",
      "2                                                NaN    523          0.93   \n",
      "3  -'Prospect of tariffs not good for equities, b...    788          0.88   \n",
      "4  I bought these calls back in June/July 2024. I...   3473          0.93   \n",
      "\n",
      "   Comments          Date                                      Cleaned Title  \\\n",
      "0      6851  1.732309e+09  Weekend Discussion Thread for the Weekend of N...   \n",
      "1       385  1.732288e+09               Weekly Earnings Thread 11/25 - 11/29   \n",
      "2       164  1.732417e+09  An investor says he put 98% of his retirement ...   \n",
      "3       229  1.732408e+09  Markets Misread Trump Win, Says Ex-Goldman Sac...   \n",
      "4       399  1.732357e+09  $19k ===> $267k in MSTR. I told you 4 months a...   \n",
      "\n",
      "                                        Cleaned Body  Title Sentiment  \\\n",
      "0  This post contains content not supported on ol...            0.000   \n",
      "1                                                NaN            0.000   \n",
      "2                                                NaN           -0.400   \n",
      "3  -'Prospect of tariffs not good for equities, b...            0.225   \n",
      "4  I bought these calls back in June/July 2024. I...            0.000   \n",
      "\n",
      "   Body Sentiment  \n",
      "0        0.225000  \n",
      "1        0.000000  \n",
      "2        0.000000  \n",
      "3        0.283333  \n",
      "4       -0.042630  \n"
     ]
    }
   ],
   "source": [
    "# Display the columns and first few rows of stock_data\n",
    "print(\"Columns in Stock Data:\", stock_data.columns)\n",
    "print(\"First few rows of Stock Price Data:\\n\", stock_data.head())\n"
   ]
  },
  {
   "cell_type": "code",
   "execution_count": 173,
   "id": "c709f492-24c9-4028-8a7d-1234bef537a3",
   "metadata": {},
   "outputs": [
    {
     "name": "stdout",
     "output_type": "stream",
     "text": [
      "Columns in Stock Price Data: Index(['Subreddit', 'Title', 'Body', 'Score', 'Upvote Ratio', 'Comments',\n",
      "       'Date', 'Cleaned Title', 'Cleaned Body', 'Title Sentiment',\n",
      "       'Body Sentiment'],\n",
      "      dtype='object')\n",
      "First few rows of Stock Price Data:\n",
      "         Subreddit                                              Title  \\\n",
      "0  wallstreetbets  Weekend Discussion Thread for the Weekend of N...   \n",
      "1  wallstreetbets               Weekly Earnings Thread 11/25 - 11/29   \n",
      "2  wallstreetbets  An investor says he put 98% of his retirement ...   \n",
      "3  wallstreetbets  Markets Misread Trump Win, Says Ex-Goldman Sac...   \n",
      "4  wallstreetbets  $19k ===> $267k in MSTR. I told you 4 months a...   \n",
      "\n",
      "                                                Body  Score  Upvote Ratio  \\\n",
      "0  This post contains content not supported on ol...    134          0.95   \n",
      "1                                                NaN    100          0.97   \n",
      "2                                                NaN    523          0.93   \n",
      "3  -'Prospect of tariffs not good for equities, b...    788          0.88   \n",
      "4  I bought these calls back in June/July 2024. I...   3473          0.93   \n",
      "\n",
      "   Comments          Date                                      Cleaned Title  \\\n",
      "0      6851  1.732309e+09  Weekend Discussion Thread for the Weekend of N...   \n",
      "1       385  1.732288e+09               Weekly Earnings Thread 11/25 - 11/29   \n",
      "2       164  1.732417e+09  An investor says he put 98% of his retirement ...   \n",
      "3       229  1.732408e+09  Markets Misread Trump Win, Says Ex-Goldman Sac...   \n",
      "4       399  1.732357e+09  $19k ===> $267k in MSTR. I told you 4 months a...   \n",
      "\n",
      "                                        Cleaned Body  Title Sentiment  \\\n",
      "0  This post contains content not supported on ol...            0.000   \n",
      "1                                                NaN            0.000   \n",
      "2                                                NaN           -0.400   \n",
      "3  -'Prospect of tariffs not good for equities, b...            0.225   \n",
      "4  I bought these calls back in June/July 2024. I...            0.000   \n",
      "\n",
      "   Body Sentiment  \n",
      "0        0.225000  \n",
      "1        0.000000  \n",
      "2        0.000000  \n",
      "3        0.283333  \n",
      "4       -0.042630  \n"
     ]
    }
   ],
   "source": [
    "# Load stock prices from a different CSV file\n",
    "stock_data = pd.read_csv(r'C:\\Users\\Asus Vivobook 15\\Downloads\\Stock_Sentiment_Analysis-main\\Stock_Sentiment_Analysis-main\\notebooks\\reddit_stock_data.csv')  # Adjust this path\n",
    "\n",
    "# Check the columns of the loaded stock data\n",
    "print(\"Columns in Stock Price Data:\", stock_data.columns)\n",
    "print(\"First few rows of Stock Price Data:\\n\", stock_data.head())\n",
    "\n"
   ]
  },
  {
   "cell_type": "code",
   "execution_count": 175,
   "id": "56ecf127-7955-4413-89c0-47cb8083c6bc",
   "metadata": {},
   "outputs": [
    {
     "name": "stdout",
     "output_type": "stream",
     "text": [
      "Stock Data Columns:\n",
      " Index(['Subreddit', 'Title', 'Body', 'Score', 'Upvote Ratio', 'Comments',\n",
      "       'Date', 'Cleaned Title', 'Cleaned Body', 'Title Sentiment',\n",
      "       'Body Sentiment'],\n",
      "      dtype='object')\n"
     ]
    }
   ],
   "source": [
    "# Check the stock price data columns\n",
    "print(\"Stock Data Columns:\\n\", stock_data.columns)\n"
   ]
  },
  {
   "cell_type": "code",
   "execution_count": 177,
   "id": "8fb8aef2-869d-4d2e-a568-ca7488e82ffd",
   "metadata": {},
   "outputs": [
    {
     "name": "stdout",
     "output_type": "stream",
     "text": [
      "        Subreddit                         Title Body       Date  \\\n",
      "0  wallstreetbets  Most Anticipated Earnings...  ... 2024-09-30   \n",
      "1  wallstreetbets    Daily Discussion Thread...  ... 2024-09-30   \n",
      "2  wallstreetbets    Billionaire Peter Thiel...  ... 2024-09-30   \n",
      "\n",
      "   Title Sentiment  Body Sentiment  \n",
      "0              0.5             0.0  \n",
      "1              0.0             0.0  \n",
      "2              0.0            -0.2  \n"
     ]
    }
   ],
   "source": [
    "import pandas as pd\n",
    "\n",
    "# Assuming this is your sentiment data DataFrame\n",
    "sentiment_data = pd.DataFrame({\n",
    "    'Subreddit': ['wallstreetbets', 'wallstreetbets', 'wallstreetbets'],\n",
    "    'Title': ['Most Anticipated Earnings...', 'Daily Discussion Thread...', 'Billionaire Peter Thiel...'],\n",
    "    'Body': ['...', '...', '...'],\n",
    "    'Date': ['2024-09-30', '2024-09-30', '2024-09-30'],\n",
    "    'Title Sentiment': [0.5, 0.0, 0.0],\n",
    "    'Body Sentiment': [0.0, 0.0, -0.2],\n",
    "})\n",
    "\n",
    "# Convert Date to datetime\n",
    "sentiment_data['Date'] = pd.to_datetime(sentiment_data['Date'])\n",
    "\n",
    "# Check the sentiment data\n",
    "print(sentiment_data.head())\n"
   ]
  },
  {
   "cell_type": "code",
   "execution_count": 179,
   "id": "32ecbf78-83b9-474c-8003-99e081d40f72",
   "metadata": {},
   "outputs": [
    {
     "name": "stdout",
     "output_type": "stream",
     "text": [
      "Requirement already satisfied: yfinance in c:\\users\\asus vivobook 15\\anaconda3\\lib\\site-packages (0.2.50)\n",
      "Requirement already satisfied: pandas>=1.3.0 in c:\\users\\asus vivobook 15\\appdata\\roaming\\python\\python312\\site-packages (from yfinance) (2.2.3)\n",
      "Requirement already satisfied: numpy>=1.16.5 in c:\\users\\asus vivobook 15\\anaconda3\\lib\\site-packages (from yfinance) (1.26.4)\n",
      "Requirement already satisfied: requests>=2.31 in c:\\users\\asus vivobook 15\\anaconda3\\lib\\site-packages (from yfinance) (2.32.2)\n",
      "Requirement already satisfied: multitasking>=0.0.7 in c:\\users\\asus vivobook 15\\anaconda3\\lib\\site-packages (from yfinance) (0.0.11)\n",
      "Requirement already satisfied: lxml>=4.9.1 in c:\\users\\asus vivobook 15\\anaconda3\\lib\\site-packages (from yfinance) (5.3.0)\n",
      "Requirement already satisfied: platformdirs>=2.0.0 in c:\\users\\asus vivobook 15\\anaconda3\\lib\\site-packages (from yfinance) (3.10.0)\n",
      "Requirement already satisfied: pytz>=2022.5 in c:\\users\\asus vivobook 15\\appdata\\roaming\\python\\python312\\site-packages (from yfinance) (2024.2)\n",
      "Requirement already satisfied: frozendict>=2.3.4 in c:\\users\\asus vivobook 15\\anaconda3\\lib\\site-packages (from yfinance) (2.4.2)\n",
      "Requirement already satisfied: peewee>=3.16.2 in c:\\users\\asus vivobook 15\\anaconda3\\lib\\site-packages (from yfinance) (3.17.8)\n",
      "Requirement already satisfied: beautifulsoup4>=4.11.1 in c:\\users\\asus vivobook 15\\anaconda3\\lib\\site-packages (from yfinance) (4.12.3)\n",
      "Requirement already satisfied: html5lib>=1.1 in c:\\users\\asus vivobook 15\\anaconda3\\lib\\site-packages (from yfinance) (1.1)\n",
      "Requirement already satisfied: soupsieve>1.2 in c:\\users\\asus vivobook 15\\anaconda3\\lib\\site-packages (from beautifulsoup4>=4.11.1->yfinance) (2.6)\n",
      "Requirement already satisfied: six>=1.9 in c:\\users\\asus vivobook 15\\appdata\\roaming\\python\\python312\\site-packages (from html5lib>=1.1->yfinance) (1.16.0)\n",
      "Requirement already satisfied: webencodings in c:\\users\\asus vivobook 15\\anaconda3\\lib\\site-packages (from html5lib>=1.1->yfinance) (0.5.1)\n",
      "Requirement already satisfied: python-dateutil>=2.8.2 in c:\\users\\asus vivobook 15\\appdata\\roaming\\python\\python312\\site-packages (from pandas>=1.3.0->yfinance) (2.9.0.post0)\n",
      "Requirement already satisfied: tzdata>=2022.7 in c:\\users\\asus vivobook 15\\appdata\\roaming\\python\\python312\\site-packages (from pandas>=1.3.0->yfinance) (2024.2)\n",
      "Requirement already satisfied: charset-normalizer<4,>=2 in c:\\users\\asus vivobook 15\\anaconda3\\lib\\site-packages (from requests>=2.31->yfinance) (2.0.4)\n",
      "Requirement already satisfied: idna<4,>=2.5 in c:\\users\\asus vivobook 15\\anaconda3\\lib\\site-packages (from requests>=2.31->yfinance) (3.10)\n",
      "Requirement already satisfied: urllib3<3,>=1.21.1 in c:\\users\\asus vivobook 15\\anaconda3\\lib\\site-packages (from requests>=2.31->yfinance) (2.2.2)\n",
      "Requirement already satisfied: certifi>=2017.4.17 in c:\\users\\asus vivobook 15\\anaconda3\\lib\\site-packages (from requests>=2.31->yfinance) (2024.8.30)\n",
      "Note: you may need to restart the kernel to use updated packages.\n"
     ]
    }
   ],
   "source": [
    "pip install yfinance\n"
   ]
  },
  {
   "cell_type": "code",
   "execution_count": 180,
   "id": "88c413b9-2086-4a00-a4f7-40467e485dc5",
   "metadata": {},
   "outputs": [
    {
     "name": "stderr",
     "output_type": "stream",
     "text": [
      "[*********************100%***********************]  1 of 1 completed"
     ]
    },
    {
     "name": "stdout",
     "output_type": "stream",
     "text": [
      "Price        Date       Close\n",
      "Ticker                   AAPL\n",
      "0      2024-09-03  222.770004\n",
      "1      2024-09-04  220.850006\n",
      "2      2024-09-05  222.380005\n",
      "3      2024-09-06  220.820007\n",
      "4      2024-09-09  220.910004\n"
     ]
    },
    {
     "name": "stderr",
     "output_type": "stream",
     "text": [
      "\n"
     ]
    }
   ],
   "source": [
    "import yfinance as yf\n",
    "\n",
    "# Define the stock symbol and the date range\n",
    "stock_symbol = 'AAPL'  # Example: Apple Inc.\n",
    "start_date = '2024-09-01'  # Adjust as necessary\n",
    "end_date = '2024-09-30'\n",
    "\n",
    "# Fetch stock price data\n",
    "stock_data = yf.download(stock_symbol, start=start_date, end=end_date)\n",
    "\n",
    "# Reset index to have Date as a column\n",
    "stock_data.reset_index(inplace=True)\n",
    "\n",
    "# Check the stock price data\n",
    "print(stock_data[['Date', 'Close']].head())\n"
   ]
  },
  {
   "cell_type": "code",
   "execution_count": 187,
   "id": "9f1ff9e0-43b3-4e02-8e2f-1287570f8e68",
   "metadata": {},
   "outputs": [
    {
     "name": "stdout",
     "output_type": "stream",
     "text": [
      "        Subreddit                                              Title  \\\n",
      "0  wallstreetbets  Weekend Discussion Thread for the Weekend of N...   \n",
      "1  wallstreetbets               Weekly Earnings Thread 11/25 - 11/29   \n",
      "2  wallstreetbets  An investor says he put 98% of his retirement ...   \n",
      "3  wallstreetbets  Markets Misread Trump Win, Says Ex-Goldman Sac...   \n",
      "4  wallstreetbets  $19k ===> $267k in MSTR. I told you 4 months a...   \n",
      "\n",
      "                                                Body  Score  Upvote Ratio  \\\n",
      "0  This post contains content not supported on ol...    134          0.95   \n",
      "1                                                NaN    100          0.97   \n",
      "2                                                NaN    523          0.93   \n",
      "3  -'Prospect of tariffs not good for equities, b...    788          0.88   \n",
      "4  I bought these calls back in June/July 2024. I...   3473          0.93   \n",
      "\n",
      "   Comments                          Date  \\\n",
      "0      6851 1970-01-01 00:00:01.732309034   \n",
      "1       385 1970-01-01 00:00:01.732288050   \n",
      "2       164 1970-01-01 00:00:01.732417440   \n",
      "3       229 1970-01-01 00:00:01.732408481   \n",
      "4       399 1970-01-01 00:00:01.732356939   \n",
      "\n",
      "                                       Cleaned Title  \\\n",
      "0  Weekend Discussion Thread for the Weekend of N...   \n",
      "1               Weekly Earnings Thread 11/25 - 11/29   \n",
      "2  An investor says he put 98% of his retirement ...   \n",
      "3  Markets Misread Trump Win, Says Ex-Goldman Sac...   \n",
      "4  $19k ===> $267k in MSTR. I told you 4 months a...   \n",
      "\n",
      "                                        Cleaned Body  Title Sentiment  \\\n",
      "0  This post contains content not supported on ol...            0.000   \n",
      "1                                                NaN            0.000   \n",
      "2                                                NaN           -0.400   \n",
      "3  -'Prospect of tariffs not good for equities, b...            0.225   \n",
      "4  I bought these calls back in June/July 2024. I...            0.000   \n",
      "\n",
      "   Body Sentiment  \n",
      "0        0.225000  \n",
      "1        0.000000  \n",
      "2        0.000000  \n",
      "3        0.283333  \n",
      "4       -0.042630  \n"
     ]
    }
   ],
   "source": [
    "# Load stock price data from a CSV file\n",
    "stock_data = pd.read_csv(r'C:\\Users\\Asus Vivobook 15\\Downloads\\Stock_Sentiment_Analysis-main\\Stock_Sentiment_Analysis-main\\notebooks\\reddit_stock_data.csv')\n",
    "\n",
    "# Convert Date to datetime\n",
    "stock_data['Date'] = pd.to_datetime(stock_data['Date'])\n",
    "\n",
    "# Check the stock price data\n",
    "print(stock_data.head())\n",
    "\n"
   ]
  },
  {
   "cell_type": "code",
   "execution_count": 189,
   "id": "47dc75b0-fa2d-4ca2-b34f-f48114afd376",
   "metadata": {},
   "outputs": [
    {
     "name": "stdout",
     "output_type": "stream",
     "text": [
      "Index(['Subreddit', 'Title', 'Body', 'Score', 'Upvote Ratio', 'Comments',\n",
      "       'Date', 'Cleaned Title', 'Cleaned Body', 'Title Sentiment',\n",
      "       'Body Sentiment'],\n",
      "      dtype='object')\n"
     ]
    }
   ],
   "source": [
    "print(stock_data.columns)\n",
    "\n"
   ]
  },
  {
   "cell_type": "code",
   "execution_count": 191,
   "id": "35b29dbc-c222-4401-bbeb-3875dfb87f00",
   "metadata": {},
   "outputs": [
    {
     "name": "stdout",
     "output_type": "stream",
     "text": [
      "Column 'Close' not found in stock_data\n"
     ]
    }
   ],
   "source": [
    "if 'Close' in stock_data.columns:\n",
    "    stock_data.rename(columns={'Close': 'Stock Price'}, inplace=True)\n",
    "else:\n",
    "    print(\"Column 'Close' not found in stock_data\")\n"
   ]
  },
  {
   "cell_type": "code",
   "execution_count": 193,
   "id": "d6222f6b-116e-41f5-b457-cb12701b22a1",
   "metadata": {},
   "outputs": [],
   "source": [
    "sentiment_data.rename(columns={'Date': 'date'}, inplace=True)\n",
    "stock_data.rename(columns={'Date': 'date'}, inplace=True)\n"
   ]
  },
  {
   "cell_type": "code",
   "execution_count": 195,
   "id": "ab6557ba-3f80-408f-9aae-a9c6bc9e17b6",
   "metadata": {},
   "outputs": [],
   "source": [
    "sentiment_data['date'] = pd.to_datetime(sentiment_data['date'])\n",
    "stock_data['date'] = pd.to_datetime(stock_data['date'])\n"
   ]
  },
  {
   "cell_type": "code",
   "execution_count": 197,
   "id": "4bcc95dd-0df6-4882-9770-d0365415991a",
   "metadata": {},
   "outputs": [
    {
     "name": "stdout",
     "output_type": "stream",
     "text": [
      "Index(['Subreddit', 'Title', 'Body', 'Score', 'Upvote Ratio', 'Comments',\n",
      "       'date', 'Cleaned Title', 'Cleaned Body', 'Title Sentiment',\n",
      "       'Body Sentiment'],\n",
      "      dtype='object')\n"
     ]
    }
   ],
   "source": [
    "print(stock_data.columns)\n"
   ]
  },
  {
   "cell_type": "code",
   "execution_count": 199,
   "id": "36a30e79-f4ae-444b-8617-9002d5c892df",
   "metadata": {},
   "outputs": [
    {
     "name": "stdout",
     "output_type": "stream",
     "text": [
      "Column 'Close' not found in stock_data. Available columns are: Index(['Subreddit', 'Title', 'Body', 'Score', 'Upvote Ratio', 'Comments',\n",
      "       'date', 'Cleaned Title', 'Cleaned Body', 'Title Sentiment',\n",
      "       'Body Sentiment'],\n",
      "      dtype='object')\n"
     ]
    }
   ],
   "source": [
    "if 'Close' in stock_data.columns:\n",
    "    stock_data.rename(columns={'Close': 'Stock Price'}, inplace=True)\n",
    "else:\n",
    "    print(\"Column 'Close' not found in stock_data. Available columns are:\", stock_data.columns)\n"
   ]
  },
  {
   "cell_type": "code",
   "execution_count": null,
   "id": "30168251-4a81-4ac7-be02-828f09bba162",
   "metadata": {},
   "outputs": [],
   "source": [
    "stock_data['closing_price'] = stock_data['closing_price'] * 1.1\n"
   ]
  },
  {
   "cell_type": "code",
   "execution_count": null,
   "id": "b94c1d85-9351-4869-9d1e-eb678c8383c9",
   "metadata": {},
   "outputs": [],
   "source": [
    "# Calculate daily percentage change in closing prices\n",
    "stock_data['price_movement'] = stock_data['closing_price'].pct_change()\n"
   ]
  },
  {
   "cell_type": "code",
   "execution_count": 207,
   "id": "813fbdc6-6ea7-43e5-ac7e-1ec7c4c30c73",
   "metadata": {},
   "outputs": [],
   "source": [
    "# Merge stock data and sentiment data on 'date'\n",
    "merged_data = pd.merge(stock_data, sentiment_data, on='date', how='inner')\n"
   ]
  },
  {
   "cell_type": "code",
   "execution_count": 209,
   "id": "9db0354d-b01d-4fc6-b0f6-a07e06985a59",
   "metadata": {},
   "outputs": [],
   "source": [
    "# Merge stock data and sentiment data on 'date'\n",
    "merged_data = pd.merge(stock_data, sentiment_data, on='date', how='inner')\n"
   ]
  },
  {
   "cell_type": "code",
   "execution_count": 211,
   "id": "55c0880e-0ad8-4874-a6b4-0b72621e4cbd",
   "metadata": {},
   "outputs": [
    {
     "name": "stdout",
     "output_type": "stream",
     "text": [
      "Index(['Subreddit_x', 'Title_x', 'Body_x', 'Score', 'Upvote Ratio', 'Comments',\n",
      "       'date', 'Cleaned Title', 'Cleaned Body', 'Title Sentiment_x',\n",
      "       'Body Sentiment_x', 'Subreddit_y', 'Title_y', 'Body_y',\n",
      "       'Title Sentiment_y', 'Body Sentiment_y'],\n",
      "      dtype='object')\n"
     ]
    }
   ],
   "source": [
    "print(merged_data.columns)\n"
   ]
  },
  {
   "cell_type": "code",
   "execution_count": 213,
   "id": "62e9a1ec-a219-46a6-9312-d33f59ab93ee",
   "metadata": {},
   "outputs": [
    {
     "name": "stdout",
     "output_type": "stream",
     "text": [
      "Index(['Subreddit_x', 'Title_x', 'Body_x', 'Score', 'Upvote Ratio', 'Comments',\n",
      "       'date', 'Cleaned Title', 'Cleaned Body', 'Title Sentiment_x',\n",
      "       'Body Sentiment_x', 'Subreddit_y', 'Title_y', 'Body_y',\n",
      "       'Title Sentiment_y', 'Body Sentiment_y'],\n",
      "      dtype='object')\n"
     ]
    }
   ],
   "source": [
    "print(merged_data.columns)\n"
   ]
  },
  {
   "cell_type": "code",
   "execution_count": 215,
   "id": "9b6773e4-cdf8-4a75-9062-0ef30f254797",
   "metadata": {},
   "outputs": [
    {
     "name": "stdout",
     "output_type": "stream",
     "text": [
      "Empty DataFrame\n",
      "Columns: [Subreddit_x, Title_x, Body_x, Score, Upvote Ratio, Comments, date, Cleaned Title, Cleaned Body, Title Sentiment_x, Body Sentiment_x, Subreddit_y, Title_y, Body_y, Title Sentiment_y, Body Sentiment_y]\n",
      "Index: []\n"
     ]
    }
   ],
   "source": [
    "print(merged_data.head())\n"
   ]
  },
  {
   "cell_type": "code",
   "execution_count": 217,
   "id": "492e7aa3-f1ca-4794-a75c-a4ff32a117b1",
   "metadata": {},
   "outputs": [
    {
     "name": "stdout",
     "output_type": "stream",
     "text": [
      "Index(['Subreddit', 'Title', 'Body', 'Score', 'Upvote Ratio', 'Comments',\n",
      "       'date', 'Cleaned Title', 'Cleaned Body', 'Title Sentiment',\n",
      "       'Body Sentiment'],\n",
      "      dtype='object')\n",
      "Index(['Subreddit', 'Title', 'Body', 'date', 'Title Sentiment',\n",
      "       'Body Sentiment'],\n",
      "      dtype='object')\n"
     ]
    }
   ],
   "source": [
    "print(stock_data.columns)\n",
    "print(sentiment_data.columns)\n"
   ]
  },
  {
   "cell_type": "code",
   "execution_count": 219,
   "id": "432349e4-d44b-46bb-a087-91ce9b6d9abd",
   "metadata": {},
   "outputs": [],
   "source": [
    "# Example: Renaming columns before merging if required\n",
    "sentiment_data.rename(columns={'sentiment_column_name': 'sentiment'}, inplace=True)\n"
   ]
  },
  {
   "cell_type": "code",
   "execution_count": 237,
   "id": "73a3d295-a26a-4f32-b498-2c78a5fcd5a1",
   "metadata": {},
   "outputs": [
    {
     "name": "stdout",
     "output_type": "stream",
     "text": [
      "Correlation between Body Sentiment and stock price movements: 0.9693\n"
     ]
    }
   ],
   "source": [
    "# Calculate correlation using 'Body Sentiment'\n",
    "correlation = merged_data['sentiment'].corr(merged_data['price_movement'])\n",
    "print(f\"Correlation between Body Sentiment and stock price movements: {correlation:.4f}\")\n"
   ]
  },
  {
   "cell_type": "code",
   "execution_count": 223,
   "id": "ad63ad41-7098-4a75-bb2c-8ff636749e47",
   "metadata": {},
   "outputs": [
    {
     "name": "stdout",
     "output_type": "stream",
     "text": [
      "True\n",
      "(0, 16)\n"
     ]
    }
   ],
   "source": [
    "print(merged_data.empty)  # This should return False if the DataFrame is not empty\n",
    "print(merged_data.shape)  # This should return the shape of the DataFrame (rows, columns)\n"
   ]
  },
  {
   "cell_type": "code",
   "execution_count": 225,
   "id": "bc74a688-5cf2-45d0-9b25-e0eb22bc27c8",
   "metadata": {},
   "outputs": [
    {
     "name": "stdout",
     "output_type": "stream",
     "text": [
      "        Subreddit                                              Title  \\\n",
      "0  wallstreetbets  Weekend Discussion Thread for the Weekend of N...   \n",
      "1  wallstreetbets               Weekly Earnings Thread 11/25 - 11/29   \n",
      "2  wallstreetbets  An investor says he put 98% of his retirement ...   \n",
      "3  wallstreetbets  Markets Misread Trump Win, Says Ex-Goldman Sac...   \n",
      "4  wallstreetbets  $19k ===> $267k in MSTR. I told you 4 months a...   \n",
      "\n",
      "                                                Body  Score  Upvote Ratio  \\\n",
      "0  This post contains content not supported on ol...    134          0.95   \n",
      "1                                                NaN    100          0.97   \n",
      "2                                                NaN    523          0.93   \n",
      "3  -'Prospect of tariffs not good for equities, b...    788          0.88   \n",
      "4  I bought these calls back in June/July 2024. I...   3473          0.93   \n",
      "\n",
      "   Comments                          date  \\\n",
      "0      6851 1970-01-01 00:00:01.732309034   \n",
      "1       385 1970-01-01 00:00:01.732288050   \n",
      "2       164 1970-01-01 00:00:01.732417440   \n",
      "3       229 1970-01-01 00:00:01.732408481   \n",
      "4       399 1970-01-01 00:00:01.732356939   \n",
      "\n",
      "                                       Cleaned Title  \\\n",
      "0  Weekend Discussion Thread for the Weekend of N...   \n",
      "1               Weekly Earnings Thread 11/25 - 11/29   \n",
      "2  An investor says he put 98% of his retirement ...   \n",
      "3  Markets Misread Trump Win, Says Ex-Goldman Sac...   \n",
      "4  $19k ===> $267k in MSTR. I told you 4 months a...   \n",
      "\n",
      "                                        Cleaned Body  Title Sentiment  \\\n",
      "0  This post contains content not supported on ol...            0.000   \n",
      "1                                                NaN            0.000   \n",
      "2                                                NaN           -0.400   \n",
      "3  -'Prospect of tariffs not good for equities, b...            0.225   \n",
      "4  I bought these calls back in June/July 2024. I...            0.000   \n",
      "\n",
      "   Body Sentiment  \n",
      "0        0.225000  \n",
      "1        0.000000  \n",
      "2        0.000000  \n",
      "3        0.283333  \n",
      "4       -0.042630  \n",
      "        Subreddit                         Title Body       date  \\\n",
      "0  wallstreetbets  Most Anticipated Earnings...  ... 2024-09-30   \n",
      "1  wallstreetbets    Daily Discussion Thread...  ... 2024-09-30   \n",
      "2  wallstreetbets    Billionaire Peter Thiel...  ... 2024-09-30   \n",
      "\n",
      "   Title Sentiment  Body Sentiment  \n",
      "0              0.5             0.0  \n",
      "1              0.0             0.0  \n",
      "2              0.0            -0.2  \n"
     ]
    }
   ],
   "source": [
    "print(stock_data.head())\n",
    "print(sentiment_data.head())\n"
   ]
  },
  {
   "cell_type": "code",
   "execution_count": 243,
   "id": "82586760-8037-4db1-bdae-ab0384b625f1",
   "metadata": {},
   "outputs": [
    {
     "name": "stdout",
     "output_type": "stream",
     "text": [
      "Correlation between sentiment and stock price movements: 0.9693\n"
     ]
    }
   ],
   "source": [
    "# Adjust the column names based on actual column names in merged_data\n",
    "correlation = merged_data['sentiment'].corr(merged_data['price_movement'])\n",
    "print(f\"Correlation between sentiment and stock price movements: {correlation:.4f}\")"
   ]
  },
  {
   "cell_type": "code",
   "execution_count": 233,
   "id": "438d01d9-beac-41fb-b72d-cbf301de84d5",
   "metadata": {},
   "outputs": [
    {
     "name": "stdout",
     "output_type": "stream",
     "text": [
      "Columns in stock_data: Index(['date', 'closing_price', 'price_movement'], dtype='object')\n",
      "Columns in sentiment_data: Index(['date', 'sentiment'], dtype='object')\n",
      "Columns in merged_data after merging: Index(['date', 'closing_price', 'price_movement', 'sentiment'], dtype='object')\n"
     ]
    }
   ],
   "source": [
    "print(\"Columns in stock_data:\", stock_data.columns)\n",
    "print(\"Columns in sentiment_data:\", sentiment_data.columns)\n",
    "print(\"Columns in merged_data after merging:\", merged_data.columns)"
   ]
  },
  {
   "cell_type": "code",
   "execution_count": 231,
   "id": "f9518994-ee24-4419-a57a-e2022e320592",
   "metadata": {},
   "outputs": [
    {
     "name": "stdout",
     "output_type": "stream",
     "text": [
      "Correlation between sentiment and stock price movements: 0.9693\n"
     ]
    },
    {
     "data": {
      "image/png": "[encoded data removed]",
      "text/plain": [
       "<Figure size 1000x600 with 1 Axes>"
      ]
     },
     "metadata": {},
     "output_type": "display_data"
    }
   ],
   "source": [
    "import pandas as pd\n",
    "import matplotlib.pyplot as plt\n",
    "\n",
    "# stock data\n",
    "data = {'date': ['2024-09-01', '2024-09-02', '2024-09-03', '2024-09-04'],\n",
    "        'closing_price': [100, 102, 101, 103]}\n",
    "stock_data = pd.DataFrame(data)\n",
    "stock_data['date'] = pd.to_datetime(stock_data['date'])\n",
    "\n",
    "# sentiment data\n",
    "sentiment = {'date': ['2024-09-01', '2024-09-02', '2024-09-03', '2024-09-04'],\n",
    "             'sentiment': [0.1, 0.2, -0.1, 0.3]}\n",
    "sentiment_data = pd.DataFrame(sentiment)\n",
    "sentiment_data['date'] = pd.to_datetime(sentiment_data['date'])\n",
    "\n",
    "# Calculate daily percentage change in closing prices\n",
    "stock_data['price_movement'] = stock_data['closing_price'].pct_change()\n",
    "\n",
    "# Merge stock data and sentiment data on 'date'\n",
    "merged_data = pd.merge(stock_data, sentiment_data, on='date', how='inner')\n",
    "\n",
    "# Calculate correlation between sentiment and stock price movements\n",
    "correlation = merged_data['sentiment'].corr(merged_data['price_movement'])\n",
    "print(f\"Correlation between sentiment and stock price movements: {correlation:.4f}\")\n",
    "\n",
    "# Visualize the correlation\n",
    "plt.figure(figsize=(10, 6))\n",
    "plt.scatter(merged_data['sentiment'], merged_data['price_movement'], alpha=0.5)\n",
    "plt.xlabel('Sentiment')\n",
    "plt.ylabel('Stock Price Movement')\n",
    "plt.title('Correlation Between Sentiment and Stock Price Movements')\n",
    "plt.grid(True)\n",
    "plt.show()\n"
   ]
  },
  {
   "cell_type": "code",
   "execution_count": null,
   "id": "e421eaa6-d735-4c63-9d66-bdd3a4bb8e87",
   "metadata": {},
   "outputs": [],
   "source": []
  }
 ],
 "metadata": {
  "kernelspec": {
   "display_name": "Python 3 (ipykernel)",
   "language": "python",
   "name": "python3"
  },
  "language_info": {
   "codemirror_mode": {
    "name": "ipython",
    "version": 3
   },
   "file_extension": ".py",
   "mimetype": "text/x-python",
   "name": "python",
   "nbconvert_exporter": "python",
   "pygments_lexer": "ipython3",
   "version": "3.12.4"
  }
 },
 "nbformat": 4,
 "nbformat_minor": 5
}
